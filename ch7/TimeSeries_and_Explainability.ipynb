{
  "nbformat": 4,
  "nbformat_minor": 0,
  "metadata": {
    "kernelspec": {
      "display_name": "Python 3",
      "language": "python",
      "name": "python3"
    },
    "language_info": {
      "codemirror_mode": {
        "name": "ipython",
        "version": 3
      },
      "file_extension": ".py",
      "mimetype": "text/x-python",
      "name": "python",
      "nbconvert_exporter": "python",
      "pygments_lexer": "ipython3",
      "version": "3.7.6"
    },
    "colab": {
      "name": "TimeSeries and Explainability.ipynb",
      "provenance": [],
      "toc_visible": true
    }
  },
  "cells": [
    {
      "cell_type": "markdown",
      "metadata": {
        "id": "sG9GSi7G_KF_"
      },
      "source": [
        "# Environment Setup / Package Installation"
      ]
    },
    {
      "cell_type": "code",
      "metadata": {
        "colab": {
          "base_uri": "https://localhost:8080/",
          "height": 380
        },
        "id": "udW9Xtap_O1Z",
        "outputId": "a90e77cd-c278-402d-9145-ebb272321197"
      },
      "source": [
        "!pip install -U statsmodels==0.11.0"
      ],
      "execution_count": 8,
      "outputs": [
        {
          "output_type": "stream",
          "name": "stdout",
          "text": [
            "Collecting statsmodels==0.11.0\n",
            "  Downloading statsmodels-0.11.0-cp37-cp37m-manylinux1_x86_64.whl (8.7 MB)\n",
            "\u001b[K     |████████████████████████████████| 8.7 MB 6.5 MB/s \n",
            "\u001b[?25hRequirement already satisfied: scipy>=1.0 in /usr/local/lib/python3.7/dist-packages (from statsmodels==0.11.0) (1.4.1)\n",
            "Requirement already satisfied: pandas>=0.21 in /usr/local/lib/python3.7/dist-packages (from statsmodels==0.11.0) (1.1.5)\n",
            "Requirement already satisfied: numpy>=1.14 in /usr/local/lib/python3.7/dist-packages (from statsmodels==0.11.0) (1.19.5)\n",
            "Requirement already satisfied: patsy>=0.5 in /usr/local/lib/python3.7/dist-packages (from statsmodels==0.11.0) (0.5.1)\n",
            "Requirement already satisfied: pytz>=2017.2 in /usr/local/lib/python3.7/dist-packages (from pandas>=0.21->statsmodels==0.11.0) (2018.9)\n",
            "Requirement already satisfied: python-dateutil>=2.7.3 in /usr/local/lib/python3.7/dist-packages (from pandas>=0.21->statsmodels==0.11.0) (2.8.2)\n",
            "Requirement already satisfied: six in /usr/local/lib/python3.7/dist-packages (from patsy>=0.5->statsmodels==0.11.0) (1.15.0)\n",
            "Installing collected packages: statsmodels\n",
            "  Attempting uninstall: statsmodels\n",
            "    Found existing installation: statsmodels 0.10.2\n",
            "    Uninstalling statsmodels-0.10.2:\n",
            "      Successfully uninstalled statsmodels-0.10.2\n",
            "Successfully installed statsmodels-0.11.0\n"
          ]
        },
        {
          "output_type": "display_data",
          "data": {
            "application/vnd.colab-display-data+json": {
              "pip_warning": {
                "packages": [
                  "statsmodels"
                ]
              }
            }
          },
          "metadata": {}
        }
      ]
    },
    {
      "cell_type": "code",
      "metadata": {
        "colab": {
          "base_uri": "https://localhost:8080/"
        },
        "id": "gmrNMMHY_bIK",
        "outputId": "210a42c9-7d9a-4a3e-9494-5b80b8d582e0"
      },
      "source": [
        "!pip install -U pmdarima==1.8.0"
      ],
      "execution_count": 9,
      "outputs": [
        {
          "output_type": "stream",
          "name": "stdout",
          "text": [
            "Collecting pmdarima==1.8.0\n",
            "  Downloading pmdarima-1.8.0-cp37-cp37m-manylinux1_x86_64.whl (1.5 MB)\n",
            "\u001b[K     |████████████████████████████████| 1.5 MB 7.6 MB/s \n",
            "\u001b[?25hRequirement already satisfied: joblib>=0.11 in /usr/local/lib/python3.7/dist-packages (from pmdarima==1.8.0) (1.0.1)\n",
            "Requirement already satisfied: numpy>=1.17.3 in /usr/local/lib/python3.7/dist-packages (from pmdarima==1.8.0) (1.19.5)\n",
            "Requirement already satisfied: scipy>=1.3.2 in /usr/local/lib/python3.7/dist-packages (from pmdarima==1.8.0) (1.4.1)\n",
            "Requirement already satisfied: statsmodels!=0.12.0,>=0.11 in /usr/local/lib/python3.7/dist-packages (from pmdarima==1.8.0) (0.11.0)\n",
            "Requirement already satisfied: setuptools!=50.0.0,>=38.6.0 in /usr/local/lib/python3.7/dist-packages (from pmdarima==1.8.0) (57.4.0)\n",
            "Collecting Cython<0.29.18,>=0.29\n",
            "  Downloading Cython-0.29.17-cp37-cp37m-manylinux1_x86_64.whl (2.1 MB)\n",
            "\u001b[K     |████████████████████████████████| 2.1 MB 60.5 MB/s \n",
            "\u001b[?25hRequirement already satisfied: urllib3 in /usr/local/lib/python3.7/dist-packages (from pmdarima==1.8.0) (1.24.3)\n",
            "Requirement already satisfied: scikit-learn>=0.22 in /usr/local/lib/python3.7/dist-packages (from pmdarima==1.8.0) (0.22.2.post1)\n",
            "Requirement already satisfied: pandas>=0.19 in /usr/local/lib/python3.7/dist-packages (from pmdarima==1.8.0) (1.1.5)\n",
            "Requirement already satisfied: pytz>=2017.2 in /usr/local/lib/python3.7/dist-packages (from pandas>=0.19->pmdarima==1.8.0) (2018.9)\n",
            "Requirement already satisfied: python-dateutil>=2.7.3 in /usr/local/lib/python3.7/dist-packages (from pandas>=0.19->pmdarima==1.8.0) (2.8.2)\n",
            "Requirement already satisfied: six>=1.5 in /usr/local/lib/python3.7/dist-packages (from python-dateutil>=2.7.3->pandas>=0.19->pmdarima==1.8.0) (1.15.0)\n",
            "Requirement already satisfied: patsy>=0.5 in /usr/local/lib/python3.7/dist-packages (from statsmodels!=0.12.0,>=0.11->pmdarima==1.8.0) (0.5.1)\n",
            "Installing collected packages: Cython, pmdarima\n",
            "  Attempting uninstall: Cython\n",
            "    Found existing installation: Cython 0.29.24\n",
            "    Uninstalling Cython-0.29.24:\n",
            "      Successfully uninstalled Cython-0.29.24\n",
            "Successfully installed Cython-0.29.17 pmdarima-1.8.0\n"
          ]
        }
      ]
    },
    {
      "cell_type": "code",
      "metadata": {
        "colab": {
          "base_uri": "https://localhost:8080/"
        },
        "id": "p86gHAi_EV78",
        "outputId": "56cec5c0-0c40-4453-86bf-91ea2f295185"
      },
      "source": [
        "!pip install -U fbprophet==0.7.1"
      ],
      "execution_count": 36,
      "outputs": [
        {
          "output_type": "stream",
          "name": "stdout",
          "text": [
            "Requirement already satisfied: fbprophet==0.7.1 in /usr/local/lib/python3.7/dist-packages (0.7.1)\n",
            "Requirement already satisfied: Cython>=0.22 in /usr/local/lib/python3.7/dist-packages (from fbprophet==0.7.1) (0.29.17)\n",
            "Requirement already satisfied: cmdstanpy==0.9.5 in /usr/local/lib/python3.7/dist-packages (from fbprophet==0.7.1) (0.9.5)\n",
            "Requirement already satisfied: pystan>=2.14 in /usr/local/lib/python3.7/dist-packages (from fbprophet==0.7.1) (2.19.1.1)\n",
            "Requirement already satisfied: numpy>=1.15.4 in /usr/local/lib/python3.7/dist-packages (from fbprophet==0.7.1) (1.19.5)\n",
            "Requirement already satisfied: pandas>=1.0.4 in /usr/local/lib/python3.7/dist-packages (from fbprophet==0.7.1) (1.1.5)\n",
            "Requirement already satisfied: matplotlib>=2.0.0 in /usr/local/lib/python3.7/dist-packages (from fbprophet==0.7.1) (3.2.2)\n",
            "Requirement already satisfied: LunarCalendar>=0.0.9 in /usr/local/lib/python3.7/dist-packages (from fbprophet==0.7.1) (0.0.9)\n",
            "Requirement already satisfied: convertdate>=2.1.2 in /usr/local/lib/python3.7/dist-packages (from fbprophet==0.7.1) (2.3.2)\n",
            "Requirement already satisfied: holidays>=0.10.2 in /usr/local/lib/python3.7/dist-packages (from fbprophet==0.7.1) (0.10.5.2)\n",
            "Requirement already satisfied: setuptools-git>=1.2 in /usr/local/lib/python3.7/dist-packages (from fbprophet==0.7.1) (1.2)\n",
            "Requirement already satisfied: python-dateutil>=2.8.0 in /usr/local/lib/python3.7/dist-packages (from fbprophet==0.7.1) (2.8.2)\n",
            "Requirement already satisfied: tqdm>=4.36.1 in /usr/local/lib/python3.7/dist-packages (from fbprophet==0.7.1) (4.62.0)\n",
            "Requirement already satisfied: pytz>=2014.10 in /usr/local/lib/python3.7/dist-packages (from convertdate>=2.1.2->fbprophet==0.7.1) (2018.9)\n",
            "Requirement already satisfied: pymeeus<=1,>=0.3.13 in /usr/local/lib/python3.7/dist-packages (from convertdate>=2.1.2->fbprophet==0.7.1) (0.5.11)\n",
            "Requirement already satisfied: hijri-converter in /usr/local/lib/python3.7/dist-packages (from holidays>=0.10.2->fbprophet==0.7.1) (2.1.3)\n",
            "Requirement already satisfied: six in /usr/local/lib/python3.7/dist-packages (from holidays>=0.10.2->fbprophet==0.7.1) (1.15.0)\n",
            "Requirement already satisfied: korean-lunar-calendar in /usr/local/lib/python3.7/dist-packages (from holidays>=0.10.2->fbprophet==0.7.1) (0.2.1)\n",
            "Requirement already satisfied: ephem>=3.7.5.3 in /usr/local/lib/python3.7/dist-packages (from LunarCalendar>=0.0.9->fbprophet==0.7.1) (4.0.0.2)\n",
            "Requirement already satisfied: cycler>=0.10 in /usr/local/lib/python3.7/dist-packages (from matplotlib>=2.0.0->fbprophet==0.7.1) (0.10.0)\n",
            "Requirement already satisfied: kiwisolver>=1.0.1 in /usr/local/lib/python3.7/dist-packages (from matplotlib>=2.0.0->fbprophet==0.7.1) (1.3.1)\n",
            "Requirement already satisfied: pyparsing!=2.0.4,!=2.1.2,!=2.1.6,>=2.0.1 in /usr/local/lib/python3.7/dist-packages (from matplotlib>=2.0.0->fbprophet==0.7.1) (2.4.7)\n"
          ]
        }
      ]
    },
    {
      "cell_type": "markdown",
      "metadata": {
        "id": "JZZFWauqmOxk"
      },
      "source": [
        "# Traditional Time Series Forecasting "
      ]
    },
    {
      "cell_type": "code",
      "metadata": {
        "id": "OxKuzlXzmOxo"
      },
      "source": [
        "import pandas as pd\n",
        "import numpy as np\n",
        "import statsmodels.api as sm\n",
        "import matplotlib.pyplot as plt\n",
        "import seaborn as sns\n",
        "import itertools"
      ],
      "execution_count": 1,
      "outputs": []
    },
    {
      "cell_type": "markdown",
      "metadata": {
        "id": "2nEvNYbWmOxp"
      },
      "source": [
        "## 1. Dataset (Mauna Lua CO2)"
      ]
    },
    {
      "cell_type": "code",
      "metadata": {
        "colab": {
          "resources": {
            "http://localhost:8080/nbextensions/google.colab/files.js": {
              "data": "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",
              "ok": true,
              "headers": [
                [
                  "content-type",
                  "application/javascript"
                ]
              ],
              "status": 200,
              "status_text": ""
            }
          },
          "base_uri": "https://localhost:8080/",
          "height": 72
        },
        "id": "pIRKq8rV-yIu",
        "outputId": "2ca0c73d-fb31-4e77-eea6-341f2dcc3621"
      },
      "source": [
        "from google.colab import files\n",
        "uploaded = files.upload()"
      ],
      "execution_count": 1,
      "outputs": [
        {
          "output_type": "display_data",
          "data": {
            "text/html": [
              "\n",
              "     <input type=\"file\" id=\"files-704db3d7-3f6f-44a2-adb7-6bdddb24b636\" name=\"files[]\" multiple disabled\n",
              "        style=\"border:none\" />\n",
              "     <output id=\"result-704db3d7-3f6f-44a2-adb7-6bdddb24b636\">\n",
              "      Upload widget is only available when the cell has been executed in the\n",
              "      current browser session. Please rerun this cell to enable.\n",
              "      </output>\n",
              "      <script src=\"/nbextensions/google.colab/files.js\"></script> "
            ],
            "text/plain": [
              "<IPython.core.display.HTML object>"
            ]
          },
          "metadata": {}
        },
        {
          "output_type": "stream",
          "name": "stdout",
          "text": [
            "Saving maunalua.csv to maunalua.csv\n"
          ]
        }
      ]
    },
    {
      "cell_type": "code",
      "metadata": {
        "colab": {
          "base_uri": "https://localhost:8080/",
          "height": 237
        },
        "id": "GrPYDtShmOxp",
        "outputId": "73e3eb69-31a3-49cd-f002-e7fd1eb7cc4f"
      },
      "source": [
        "maunaloa = pd.read_csv('maunalua.csv',\n",
        "                       parse_dates=[[0, 1]], na_values=[-999.99],\n",
        "                        index_col=\"Year_Month\")\n",
        "maunaloa.head()"
      ],
      "execution_count": 2,
      "outputs": [
        {
          "output_type": "execute_result",
          "data": {
            "text/html": [
              "<div>\n",
              "<style scoped>\n",
              "    .dataframe tbody tr th:only-of-type {\n",
              "        vertical-align: middle;\n",
              "    }\n",
              "\n",
              "    .dataframe tbody tr th {\n",
              "        vertical-align: top;\n",
              "    }\n",
              "\n",
              "    .dataframe thead th {\n",
              "        text-align: right;\n",
              "    }\n",
              "</style>\n",
              "<table border=\"1\" class=\"dataframe\">\n",
              "  <thead>\n",
              "    <tr style=\"text-align: right;\">\n",
              "      <th></th>\n",
              "      <th>Decimal Date</th>\n",
              "      <th>co2</th>\n",
              "      <th>Seasonally Adjusted CO2</th>\n",
              "      <th>Carbon Dioxide Fit (ppm)</th>\n",
              "      <th>Seasonally Adjusted CO2 Fit (ppm)</th>\n",
              "    </tr>\n",
              "    <tr>\n",
              "      <th>Year_Month</th>\n",
              "      <th></th>\n",
              "      <th></th>\n",
              "      <th></th>\n",
              "      <th></th>\n",
              "      <th></th>\n",
              "    </tr>\n",
              "  </thead>\n",
              "  <tbody>\n",
              "    <tr>\n",
              "      <th>1958-03-01</th>\n",
              "      <td>1958.2027</td>\n",
              "      <td>315.69</td>\n",
              "      <td>314.42</td>\n",
              "      <td>316.18</td>\n",
              "      <td>314.89</td>\n",
              "    </tr>\n",
              "    <tr>\n",
              "      <th>1958-04-01</th>\n",
              "      <td>1958.2877</td>\n",
              "      <td>317.45</td>\n",
              "      <td>315.15</td>\n",
              "      <td>317.30</td>\n",
              "      <td>314.98</td>\n",
              "    </tr>\n",
              "    <tr>\n",
              "      <th>1958-05-01</th>\n",
              "      <td>1958.3699</td>\n",
              "      <td>317.50</td>\n",
              "      <td>314.73</td>\n",
              "      <td>317.83</td>\n",
              "      <td>315.06</td>\n",
              "    </tr>\n",
              "    <tr>\n",
              "      <th>1958-06-01</th>\n",
              "      <td>1958.4548</td>\n",
              "      <td>NaN</td>\n",
              "      <td>NaN</td>\n",
              "      <td>317.22</td>\n",
              "      <td>315.14</td>\n",
              "    </tr>\n",
              "    <tr>\n",
              "      <th>1958-07-01</th>\n",
              "      <td>1958.5370</td>\n",
              "      <td>315.86</td>\n",
              "      <td>315.17</td>\n",
              "      <td>315.87</td>\n",
              "      <td>315.21</td>\n",
              "    </tr>\n",
              "  </tbody>\n",
              "</table>\n",
              "</div>"
            ],
            "text/plain": [
              "            Decimal Date  ...  Seasonally Adjusted CO2 Fit (ppm)\n",
              "Year_Month                ...                                   \n",
              "1958-03-01     1958.2027  ...                             314.89\n",
              "1958-04-01     1958.2877  ...                             314.98\n",
              "1958-05-01     1958.3699  ...                             315.06\n",
              "1958-06-01     1958.4548  ...                             315.14\n",
              "1958-07-01     1958.5370  ...                             315.21\n",
              "\n",
              "[5 rows x 5 columns]"
            ]
          },
          "metadata": {},
          "execution_count": 2
        }
      ]
    },
    {
      "cell_type": "markdown",
      "metadata": {
        "id": "Xb9R8t_YmOxq"
      },
      "source": [
        "## 2. Basic Preprocessing to replace the missing values"
      ]
    },
    {
      "cell_type": "code",
      "metadata": {
        "id": "m1Hht4VFmOxr"
      },
      "source": [
        "# entire data\n",
        "y= maunaloa.copy()\n",
        "# The 'MS' string groups the data in buckets by start of the month\n",
        "y = y['co2'].resample('MS').mean()\n",
        "\n",
        "# The term bfill means that we use the value before filling in missing values\n",
        "y = y.fillna(y.bfill())"
      ],
      "execution_count": 3,
      "outputs": []
    },
    {
      "cell_type": "markdown",
      "metadata": {
        "id": "wa6RcfIamOxs"
      },
      "source": [
        "## 3. Train and Test Dataset keeping the temporal order"
      ]
    },
    {
      "cell_type": "code",
      "metadata": {
        "id": "jmShfowVmOxs"
      },
      "source": [
        "#Creating train with 610 months and test set 98 months\n",
        "train=y[0:610] \n",
        "test=y[610:708]\n"
      ],
      "execution_count": 4,
      "outputs": []
    },
    {
      "cell_type": "code",
      "metadata": {
        "colab": {
          "base_uri": "https://localhost:8080/"
        },
        "id": "aWQVRIC-mOxt",
        "outputId": "3e27daa7-9743-4720-bf1f-9e68ddb78b2d"
      },
      "source": [
        "train.tail()"
      ],
      "execution_count": 6,
      "outputs": [
        {
          "output_type": "execute_result",
          "data": {
            "text/plain": [
              "Year_Month\n",
              "2008-08-01    384.08\n",
              "2008-09-01    383.09\n",
              "2008-10-01    382.78\n",
              "2008-11-01    384.01\n",
              "2008-12-01    385.11\n",
              "Freq: MS, Name: co2, dtype: float64"
            ]
          },
          "metadata": {},
          "execution_count": 6
        }
      ]
    },
    {
      "cell_type": "markdown",
      "metadata": {
        "id": "7Tt4ywfpmOxt"
      },
      "source": [
        "## 4. Perform Hyperparameter search for ARIMA "
      ]
    },
    {
      "cell_type": "code",
      "metadata": {
        "colab": {
          "base_uri": "https://localhost:8080/",
          "height": 802
        },
        "id": "s2zdjiH1mOxt",
        "outputId": "6689f765-fd11-4702-e8b7-9a76c059be01"
      },
      "source": [
        "# Import the library \n",
        "from pmdarima import auto_arima \n",
        "import warnings \n",
        "warnings.filterwarnings(\"ignore\") \n",
        "  \n",
        "stepwise_fit = auto_arima(train, start_p = 1, start_q = 1, \n",
        "                          max_p = 3, max_q = 3, m = 12, \n",
        "                          start_P = 0, seasonal = True, \n",
        "                          d = None, D = 1, trace = True, \n",
        "                          error_action ='ignore',   # we don't want to know if an order does not work \n",
        "                          suppress_warnings = True,  # we don't want convergence warnings \n",
        "                          stepwise = True)           # set to stepwise \n",
        "  \n",
        "# To print the summary \n",
        "stepwise_fit.summary() "
      ],
      "execution_count": 5,
      "outputs": [
        {
          "output_type": "stream",
          "name": "stdout",
          "text": [
            "Performing stepwise search to minimize aic\n",
            " ARIMA(1,1,1)(0,1,1)[12]             : AIC=373.782, Time=3.17 sec\n",
            " ARIMA(0,1,0)(0,1,0)[12]             : AIC=725.657, Time=0.07 sec\n",
            " ARIMA(1,1,0)(1,1,0)[12]             : AIC=546.596, Time=0.91 sec\n",
            " ARIMA(0,1,1)(0,1,1)[12]             : AIC=385.612, Time=1.60 sec\n",
            " ARIMA(1,1,1)(0,1,0)[12]             : AIC=664.737, Time=0.32 sec\n",
            " ARIMA(1,1,1)(1,1,1)[12]             : AIC=375.773, Time=4.14 sec\n",
            " ARIMA(1,1,1)(0,1,2)[12]             : AIC=375.772, Time=8.98 sec\n",
            " ARIMA(1,1,1)(1,1,0)[12]             : AIC=523.661, Time=1.41 sec\n",
            " ARIMA(1,1,1)(1,1,2)[12]             : AIC=377.741, Time=12.22 sec\n",
            " ARIMA(1,1,0)(0,1,1)[12]             : AIC=399.951, Time=1.92 sec\n",
            " ARIMA(2,1,1)(0,1,1)[12]             : AIC=375.757, Time=5.81 sec\n",
            " ARIMA(1,1,2)(0,1,1)[12]             : AIC=375.762, Time=4.83 sec\n",
            " ARIMA(0,1,0)(0,1,1)[12]             : AIC=inf, Time=1.16 sec\n",
            " ARIMA(0,1,2)(0,1,1)[12]             : AIC=376.202, Time=2.07 sec\n",
            " ARIMA(2,1,0)(0,1,1)[12]             : AIC=389.050, Time=2.18 sec\n",
            " ARIMA(2,1,2)(0,1,1)[12]             : AIC=377.579, Time=8.04 sec\n",
            " ARIMA(1,1,1)(0,1,1)[12] intercept   : AIC=inf, Time=7.92 sec\n",
            "\n",
            "Best model:  ARIMA(1,1,1)(0,1,1)[12]          \n",
            "Total fit time: 66.831 seconds\n"
          ]
        },
        {
          "output_type": "execute_result",
          "data": {
            "text/html": [
              "<table class=\"simpletable\">\n",
              "<caption>SARIMAX Results</caption>\n",
              "<tr>\n",
              "  <th>Dep. Variable:</th>                  <td>y</td>               <th>  No. Observations:  </th>    <td>610</td>  \n",
              "</tr>\n",
              "<tr>\n",
              "  <th>Model:</th>           <td>SARIMAX(1, 1, 1)x(0, 1, 1, 12)</td> <th>  Log Likelihood     </th> <td>-182.891</td>\n",
              "</tr>\n",
              "<tr>\n",
              "  <th>Date:</th>                   <td>Wed, 08 Sep 2021</td>        <th>  AIC                </th>  <td>373.782</td>\n",
              "</tr>\n",
              "<tr>\n",
              "  <th>Time:</th>                       <td>20:00:52</td>            <th>  BIC                </th>  <td>391.349</td>\n",
              "</tr>\n",
              "<tr>\n",
              "  <th>Sample:</th>                         <td>0</td>               <th>  HQIC               </th>  <td>380.622</td>\n",
              "</tr>\n",
              "<tr>\n",
              "  <th></th>                             <td> - 610</td>             <th>                     </th>     <td> </td>   \n",
              "</tr>\n",
              "<tr>\n",
              "  <th>Covariance Type:</th>               <td>opg</td>              <th>                     </th>     <td> </td>   \n",
              "</tr>\n",
              "</table>\n",
              "<table class=\"simpletable\">\n",
              "<tr>\n",
              "      <td></td>        <th>coef</th>     <th>std err</th>      <th>z</th>      <th>P>|z|</th>  <th>[0.025</th>    <th>0.975]</th>  \n",
              "</tr>\n",
              "<tr>\n",
              "  <th>ar.L1</th>    <td>    0.3801</td> <td>    0.077</td> <td>    4.932</td> <td> 0.000</td> <td>    0.229</td> <td>    0.531</td>\n",
              "</tr>\n",
              "<tr>\n",
              "  <th>ma.L1</th>    <td>   -0.6886</td> <td>    0.064</td> <td>  -10.809</td> <td> 0.000</td> <td>   -0.813</td> <td>   -0.564</td>\n",
              "</tr>\n",
              "<tr>\n",
              "  <th>ma.S.L12</th> <td>   -0.8750</td> <td>    0.025</td> <td>  -35.367</td> <td> 0.000</td> <td>   -0.923</td> <td>   -0.826</td>\n",
              "</tr>\n",
              "<tr>\n",
              "  <th>sigma2</th>   <td>    0.1049</td> <td>    0.004</td> <td>   24.566</td> <td> 0.000</td> <td>    0.097</td> <td>    0.113</td>\n",
              "</tr>\n",
              "</table>\n",
              "<table class=\"simpletable\">\n",
              "<tr>\n",
              "  <th>Ljung-Box (Q):</th>          <td>35.64</td> <th>  Jarque-Bera (JB):  </th> <td>219.13</td>\n",
              "</tr>\n",
              "<tr>\n",
              "  <th>Prob(Q):</th>                <td>0.67</td>  <th>  Prob(JB):          </th>  <td>0.00</td> \n",
              "</tr>\n",
              "<tr>\n",
              "  <th>Heteroskedasticity (H):</th> <td>0.72</td>  <th>  Skew:              </th>  <td>0.40</td> \n",
              "</tr>\n",
              "<tr>\n",
              "  <th>Prob(H) (two-sided):</th>    <td>0.02</td>  <th>  Kurtosis:          </th>  <td>5.86</td> \n",
              "</tr>\n",
              "</table><br/><br/>Warnings:<br/>[1] Covariance matrix calculated using the outer product of gradients (complex-step)."
            ],
            "text/plain": [
              "<class 'statsmodels.iolib.summary.Summary'>\n",
              "\"\"\"\n",
              "                                     SARIMAX Results                                      \n",
              "==========================================================================================\n",
              "Dep. Variable:                                  y   No. Observations:                  610\n",
              "Model:             SARIMAX(1, 1, 1)x(0, 1, 1, 12)   Log Likelihood                -182.891\n",
              "Date:                            Wed, 08 Sep 2021   AIC                            373.782\n",
              "Time:                                    20:00:52   BIC                            391.349\n",
              "Sample:                                         0   HQIC                           380.622\n",
              "                                            - 610                                         \n",
              "Covariance Type:                              opg                                         \n",
              "==============================================================================\n",
              "                 coef    std err          z      P>|z|      [0.025      0.975]\n",
              "------------------------------------------------------------------------------\n",
              "ar.L1          0.3801      0.077      4.932      0.000       0.229       0.531\n",
              "ma.L1         -0.6886      0.064    -10.809      0.000      -0.813      -0.564\n",
              "ma.S.L12      -0.8750      0.025    -35.367      0.000      -0.923      -0.826\n",
              "sigma2         0.1049      0.004     24.566      0.000       0.097       0.113\n",
              "===================================================================================\n",
              "Ljung-Box (Q):                       35.64   Jarque-Bera (JB):               219.13\n",
              "Prob(Q):                              0.67   Prob(JB):                         0.00\n",
              "Heteroskedasticity (H):               0.72   Skew:                             0.40\n",
              "Prob(H) (two-sided):                  0.02   Kurtosis:                         5.86\n",
              "===================================================================================\n",
              "\n",
              "Warnings:\n",
              "[1] Covariance matrix calculated using the outer product of gradients (complex-step).\n",
              "\"\"\""
            ]
          },
          "metadata": {},
          "execution_count": 5
        }
      ]
    },
    {
      "cell_type": "markdown",
      "metadata": {
        "id": "ThvliFt4mOxu"
      },
      "source": [
        "## 5. SARIMAX MODEL "
      ]
    },
    {
      "cell_type": "code",
      "metadata": {
        "colab": {
          "base_uri": "https://localhost:8080/",
          "height": 438
        },
        "id": "5X2q5c9-mOxu",
        "outputId": "93b10aa3-e278-4872-f706-a642ff6f423a"
      },
      "source": [
        "from statsmodels.tsa.statespace.sarimax import SARIMAX \n",
        "  \n",
        "model = SARIMAX(train,  \n",
        "                order = (1, 1, 1),  \n",
        "                seasonal_order =(0, 1, 1, 12)) \n",
        "  \n",
        "result = model.fit() \n",
        "result.summary() "
      ],
      "execution_count": 6,
      "outputs": [
        {
          "output_type": "execute_result",
          "data": {
            "text/html": [
              "<table class=\"simpletable\">\n",
              "<caption>SARIMAX Results</caption>\n",
              "<tr>\n",
              "  <th>Dep. Variable:</th>                 <td>co2</td>              <th>  No. Observations:  </th>    <td>610</td>  \n",
              "</tr>\n",
              "<tr>\n",
              "  <th>Model:</th>           <td>SARIMAX(1, 1, 1)x(0, 1, 1, 12)</td> <th>  Log Likelihood     </th> <td>-182.891</td>\n",
              "</tr>\n",
              "<tr>\n",
              "  <th>Date:</th>                   <td>Wed, 08 Sep 2021</td>        <th>  AIC                </th>  <td>373.782</td>\n",
              "</tr>\n",
              "<tr>\n",
              "  <th>Time:</th>                       <td>20:01:07</td>            <th>  BIC                </th>  <td>391.349</td>\n",
              "</tr>\n",
              "<tr>\n",
              "  <th>Sample:</th>                    <td>03-01-1958</td>           <th>  HQIC               </th>  <td>380.622</td>\n",
              "</tr>\n",
              "<tr>\n",
              "  <th></th>                          <td>- 12-01-2008</td>          <th>                     </th>     <td> </td>   \n",
              "</tr>\n",
              "<tr>\n",
              "  <th>Covariance Type:</th>               <td>opg</td>              <th>                     </th>     <td> </td>   \n",
              "</tr>\n",
              "</table>\n",
              "<table class=\"simpletable\">\n",
              "<tr>\n",
              "      <td></td>        <th>coef</th>     <th>std err</th>      <th>z</th>      <th>P>|z|</th>  <th>[0.025</th>    <th>0.975]</th>  \n",
              "</tr>\n",
              "<tr>\n",
              "  <th>ar.L1</th>    <td>    0.3801</td> <td>    0.077</td> <td>    4.932</td> <td> 0.000</td> <td>    0.229</td> <td>    0.531</td>\n",
              "</tr>\n",
              "<tr>\n",
              "  <th>ma.L1</th>    <td>   -0.6886</td> <td>    0.064</td> <td>  -10.809</td> <td> 0.000</td> <td>   -0.813</td> <td>   -0.564</td>\n",
              "</tr>\n",
              "<tr>\n",
              "  <th>ma.S.L12</th> <td>   -0.8750</td> <td>    0.025</td> <td>  -35.367</td> <td> 0.000</td> <td>   -0.923</td> <td>   -0.826</td>\n",
              "</tr>\n",
              "<tr>\n",
              "  <th>sigma2</th>   <td>    0.1049</td> <td>    0.004</td> <td>   24.566</td> <td> 0.000</td> <td>    0.097</td> <td>    0.113</td>\n",
              "</tr>\n",
              "</table>\n",
              "<table class=\"simpletable\">\n",
              "<tr>\n",
              "  <th>Ljung-Box (Q):</th>          <td>35.64</td> <th>  Jarque-Bera (JB):  </th> <td>219.13</td>\n",
              "</tr>\n",
              "<tr>\n",
              "  <th>Prob(Q):</th>                <td>0.67</td>  <th>  Prob(JB):          </th>  <td>0.00</td> \n",
              "</tr>\n",
              "<tr>\n",
              "  <th>Heteroskedasticity (H):</th> <td>0.72</td>  <th>  Skew:              </th>  <td>0.40</td> \n",
              "</tr>\n",
              "<tr>\n",
              "  <th>Prob(H) (two-sided):</th>    <td>0.02</td>  <th>  Kurtosis:          </th>  <td>5.86</td> \n",
              "</tr>\n",
              "</table><br/><br/>Warnings:<br/>[1] Covariance matrix calculated using the outer product of gradients (complex-step)."
            ],
            "text/plain": [
              "<class 'statsmodels.iolib.summary.Summary'>\n",
              "\"\"\"\n",
              "                                     SARIMAX Results                                      \n",
              "==========================================================================================\n",
              "Dep. Variable:                                co2   No. Observations:                  610\n",
              "Model:             SARIMAX(1, 1, 1)x(0, 1, 1, 12)   Log Likelihood                -182.891\n",
              "Date:                            Wed, 08 Sep 2021   AIC                            373.782\n",
              "Time:                                    20:01:07   BIC                            391.349\n",
              "Sample:                                03-01-1958   HQIC                           380.622\n",
              "                                     - 12-01-2008                                         \n",
              "Covariance Type:                              opg                                         \n",
              "==============================================================================\n",
              "                 coef    std err          z      P>|z|      [0.025      0.975]\n",
              "------------------------------------------------------------------------------\n",
              "ar.L1          0.3801      0.077      4.932      0.000       0.229       0.531\n",
              "ma.L1         -0.6886      0.064    -10.809      0.000      -0.813      -0.564\n",
              "ma.S.L12      -0.8750      0.025    -35.367      0.000      -0.923      -0.826\n",
              "sigma2         0.1049      0.004     24.566      0.000       0.097       0.113\n",
              "===================================================================================\n",
              "Ljung-Box (Q):                       35.64   Jarque-Bera (JB):               219.13\n",
              "Prob(Q):                              0.67   Prob(JB):                         0.00\n",
              "Heteroskedasticity (H):               0.72   Skew:                             0.40\n",
              "Prob(H) (two-sided):                  0.02   Kurtosis:                         5.86\n",
              "===================================================================================\n",
              "\n",
              "Warnings:\n",
              "[1] Covariance matrix calculated using the outer product of gradients (complex-step).\n",
              "\"\"\""
            ]
          },
          "metadata": {},
          "execution_count": 6
        }
      ]
    },
    {
      "cell_type": "markdown",
      "metadata": {
        "id": "CfEOL5BMmOxv"
      },
      "source": [
        "### 5.1 Forecasting on Test data"
      ]
    },
    {
      "cell_type": "code",
      "metadata": {
        "colab": {
          "base_uri": "https://localhost:8080/",
          "height": 297
        },
        "id": "rtbp5qdamOxv",
        "outputId": "cf73f241-0cfe-4225-e060-9fb60799fc3b"
      },
      "source": [
        "start = len(train) \n",
        "end = len(train) + len(test) - 1\n",
        "  \n",
        "# Predictions the test set \n",
        "sarima_predictions = result.predict(start, end, \n",
        "                             typ = 'levels').rename(\"SARIMAX Predictions\") \n",
        "  \n",
        "# plot predictions and actual values \n",
        "sarima_predictions.plot(legend = True) \n",
        "test.rename(\"Actual\").plot(legend = True)"
      ],
      "execution_count": 7,
      "outputs": [
        {
          "output_type": "execute_result",
          "data": {
            "text/plain": [
              "<matplotlib.axes._subplots.AxesSubplot at 0x7f97f1ece410>"
            ]
          },
          "metadata": {},
          "execution_count": 7
        },
        {
          "output_type": "display_data",
          "data": {
            "image/png": "[encoded data removed]",
            "text/plain": [
              "<Figure size 432x288 with 1 Axes>"
            ]
          },
          "metadata": {
            "needs_background": "light"
          }
        }
      ]
    },
    {
      "cell_type": "markdown",
      "metadata": {
        "id": "ffcSAOwimOxv"
      },
      "source": [
        "### 5.2. Model Metrics and Evaluation"
      ]
    },
    {
      "cell_type": "code",
      "metadata": {
        "id": "vd9TcLtnmOxv"
      },
      "source": [
        "# calculate rmse\n",
        "from math import sqrt\n",
        "import sklearn.metrics as metrics\n",
        "\n",
        "def mean_absolute_percentage_error(y_true, y_pred): \n",
        "    y_true, y_pred = np.array(y_true), np.array(y_pred)\n",
        "    return np.mean(np.abs((y_true - y_pred) / y_true)) * 100\n",
        "\n",
        "def calculate_errors(y_true,y_pred):\n",
        "    mse = mean_squared_error(y_true,y_pred)\n",
        "    print('MSE: %f' %mse)\n",
        "    rms = sqrt(mse)\n",
        "    print('RMS: %f' %rms)\n",
        "    mae = mean_absolute_error(y_true,y_pred)\n",
        "    print('MAE: %f' % mae)\n",
        "    mape = mean_absolute_percentage_error(y_true,y_pred)\n",
        "    print('MAE: %f' % mae)\n",
        "    "
      ],
      "execution_count": 8,
      "outputs": []
    },
    {
      "cell_type": "code",
      "metadata": {
        "id": "5On-K-7ymOxw"
      },
      "source": [
        "from statsmodels.tools.eval_measures import rmse,meanabs\n",
        "def accuracy(y1,y2):    \n",
        "    accuracy_df=pd.DataFrame()  \n",
        "    mf_errors = np.round(np.mean([y1[i]-y2[i] for i in range(len(y2))]),1)\n",
        "    rms_error = np.round(rmse(y1, y2),1)    \n",
        "    map_error = np.round(np.mean(np.abs((np.array(y1) - np.array(y2)) / np.array(y1))) * 100,1)  \n",
        "    ma_error = np.round(meanabs(y1, y2),1)   \n",
        "    accuracy_df=accuracy_df.append({\"RMSE\":rms_error, \"%MAPE\": map_error, \"MAE\": ma_error, \"MFE\": mf_errors}, ignore_index=True)    \n",
        "    return accuracy_df"
      ],
      "execution_count": 9,
      "outputs": []
    },
    {
      "cell_type": "code",
      "metadata": {
        "colab": {
          "base_uri": "https://localhost:8080/",
          "height": 81
        },
        "id": "gHhngq35mOxw",
        "outputId": "eeeaf031-f17b-4654-b802-0b277a3960e9"
      },
      "source": [
        "accuracy(test,sarima_predictions)"
      ],
      "execution_count": 10,
      "outputs": [
        {
          "output_type": "execute_result",
          "data": {
            "text/html": [
              "<div>\n",
              "<style scoped>\n",
              "    .dataframe tbody tr th:only-of-type {\n",
              "        vertical-align: middle;\n",
              "    }\n",
              "\n",
              "    .dataframe tbody tr th {\n",
              "        vertical-align: top;\n",
              "    }\n",
              "\n",
              "    .dataframe thead th {\n",
              "        text-align: right;\n",
              "    }\n",
              "</style>\n",
              "<table border=\"1\" class=\"dataframe\">\n",
              "  <thead>\n",
              "    <tr style=\"text-align: right;\">\n",
              "      <th></th>\n",
              "      <th>%MAPE</th>\n",
              "      <th>MAE</th>\n",
              "      <th>MFE</th>\n",
              "      <th>RMSE</th>\n",
              "    </tr>\n",
              "  </thead>\n",
              "  <tbody>\n",
              "    <tr>\n",
              "      <th>0</th>\n",
              "      <td>0.5</td>\n",
              "      <td>1.9</td>\n",
              "      <td>1.9</td>\n",
              "      <td>2.3</td>\n",
              "    </tr>\n",
              "  </tbody>\n",
              "</table>\n",
              "</div>"
            ],
            "text/plain": [
              "   %MAPE  MAE  MFE  RMSE\n",
              "0    0.5  1.9  1.9   2.3"
            ]
          },
          "metadata": {},
          "execution_count": 10
        }
      ]
    },
    {
      "cell_type": "markdown",
      "metadata": {
        "id": "jG8xaFITmOxw"
      },
      "source": [
        "### 5.3 Model Diagnostics"
      ]
    },
    {
      "cell_type": "code",
      "metadata": {
        "scrolled": true,
        "colab": {
          "base_uri": "https://localhost:8080/",
          "height": 965
        },
        "id": "TxcNFw9gmOxx",
        "outputId": "a7c90105-7b54-48e9-ec19-02805913f43e"
      },
      "source": [
        "result.plot_diagnostics(figsize=(14,18))\n",
        "plt.gcf().autofmt_xdate()\n",
        "plt.show()"
      ],
      "execution_count": 12,
      "outputs": [
        {
          "output_type": "display_data",
          "data": {
            "image/png": "[encoded data removed]",
            "text/plain": [
              "<Figure size 1008x1296 with 4 Axes>"
            ]
          },
          "metadata": {
            "needs_background": "light"
          }
        }
      ]
    },
    {
      "cell_type": "markdown",
      "metadata": {
        "id": "ijP233qlmOxx"
      },
      "source": [
        "## 6. Exponential Smoothing Models (Holt-Winters)"
      ]
    },
    {
      "cell_type": "code",
      "metadata": {
        "id": "QzxjSZmxmOxx"
      },
      "source": [
        "from statsmodels.tsa.holtwinters import ExponentialSmoothing\n",
        "\n",
        "ets_model = ExponentialSmoothing(train, trend=\"add\", seasonal=\"mul\", seasonal_periods= 12)\n",
        "ets_model_fit_with_box_cox = ets_model.fit(use_boxcox=True)"
      ],
      "execution_count": 16,
      "outputs": []
    },
    {
      "cell_type": "code",
      "metadata": {
        "id": "CxSVEFlumOxx"
      },
      "source": [
        "ets_model_fit_without_box_cox = ets_model.fit(use_boxcox=False)"
      ],
      "execution_count": 17,
      "outputs": []
    },
    {
      "cell_type": "code",
      "metadata": {
        "colab": {
          "base_uri": "https://localhost:8080/",
          "height": 574
        },
        "id": "S5LN8COfmOxx",
        "outputId": "57e7f979-3454-416e-b439-8b81486ed342"
      },
      "source": [
        "ets_model_fit_with_box_cox.summary()"
      ],
      "execution_count": 18,
      "outputs": [
        {
          "output_type": "execute_result",
          "data": {
            "text/html": [
              "<table class=\"simpletable\">\n",
              "<caption>ExponentialSmoothing Model Results</caption>\n",
              "<tr>\n",
              "  <th>Dep. Variable:</th>            <td>endog</td>        <th>  No. Observations:  </th>        <td>610</td>      \n",
              "</tr>\n",
              "<tr>\n",
              "  <th>Model:</th>            <td>ExponentialSmoothing</td> <th>  SSE                </th>      <td>90.610</td>     \n",
              "</tr>\n",
              "<tr>\n",
              "  <th>Optimized:</th>                <td>True</td>         <th>  AIC                </th>     <td>-1131.205</td>   \n",
              "</tr>\n",
              "<tr>\n",
              "  <th>Trend:</th>                  <td>Additive</td>       <th>  BIC                </th>     <td>-1060.590</td>   \n",
              "</tr>\n",
              "<tr>\n",
              "  <th>Seasonal:</th>            <td>Multiplicative</td>    <th>  AICC               </th>     <td>-1130.048</td>   \n",
              "</tr>\n",
              "<tr>\n",
              "  <th>Seasonal Periods:</th>          <td>12</td>          <th>  Date:              </th> <td>Wed, 08 Sep 2021</td>\n",
              "</tr>\n",
              "<tr>\n",
              "  <th>Box-Cox:</th>                  <td>True</td>         <th>  Time:              </th>     <td>20:06:12</td>    \n",
              "</tr>\n",
              "<tr>\n",
              "  <th>Box-Cox Coeff.:</th>        <td>  -2.26216</td>      <th>                     </th>         <td> </td>       \n",
              "</tr>\n",
              "</table>\n",
              "<table class=\"simpletable\">\n",
              "<tr>\n",
              "           <td></td>                  <th>coeff</th>                <th>code</th>               <th>optimized</th>     \n",
              "</tr>\n",
              "<tr>\n",
              "  <th>smoothing_level</th>    <td>           0.3684211</td> <td>               alpha</td> <td>                True</td>\n",
              "</tr>\n",
              "<tr>\n",
              "  <th>smoothing_slope</th>    <td>           0.0526316</td> <td>                beta</td> <td>                True</td>\n",
              "</tr>\n",
              "<tr>\n",
              "  <th>smoothing_seasonal</th> <td>           0.3684211</td> <td>               gamma</td> <td>                True</td>\n",
              "</tr>\n",
              "<tr>\n",
              "  <th>initial_level</th>      <td>           0.4420550</td> <td>                 l.0</td> <td>                True</td>\n",
              "</tr>\n",
              "<tr>\n",
              "  <th>initial_slope</th>      <td>          4.4939e-10</td> <td>                 b.0</td> <td>                True</td>\n",
              "</tr>\n",
              "<tr>\n",
              "  <th>initial_seasons.0</th>  <td>           0.9999996</td> <td>                 s.0</td> <td>                True</td>\n",
              "</tr>\n",
              "<tr>\n",
              "  <th>initial_seasons.1</th>  <td>           0.9999996</td> <td>                 s.1</td> <td>                True</td>\n",
              "</tr>\n",
              "<tr>\n",
              "  <th>initial_seasons.2</th>  <td>           0.9999996</td> <td>                 s.2</td> <td>                True</td>\n",
              "</tr>\n",
              "<tr>\n",
              "  <th>initial_seasons.3</th>  <td>           0.9999996</td> <td>                 s.3</td> <td>                True</td>\n",
              "</tr>\n",
              "<tr>\n",
              "  <th>initial_seasons.4</th>  <td>           0.9999996</td> <td>                 s.4</td> <td>                True</td>\n",
              "</tr>\n",
              "<tr>\n",
              "  <th>initial_seasons.5</th>  <td>           0.9999996</td> <td>                 s.5</td> <td>                True</td>\n",
              "</tr>\n",
              "<tr>\n",
              "  <th>initial_seasons.6</th>  <td>           0.9999996</td> <td>                 s.6</td> <td>                True</td>\n",
              "</tr>\n",
              "<tr>\n",
              "  <th>initial_seasons.7</th>  <td>           0.9999996</td> <td>                 s.7</td> <td>                True</td>\n",
              "</tr>\n",
              "<tr>\n",
              "  <th>initial_seasons.8</th>  <td>           0.9999996</td> <td>                 s.8</td> <td>                True</td>\n",
              "</tr>\n",
              "<tr>\n",
              "  <th>initial_seasons.9</th>  <td>           0.9999996</td> <td>                 s.9</td> <td>                True</td>\n",
              "</tr>\n",
              "<tr>\n",
              "  <th>initial_seasons.10</th> <td>           0.9999996</td> <td>                s.10</td> <td>                True</td>\n",
              "</tr>\n",
              "<tr>\n",
              "  <th>initial_seasons.11</th> <td>           0.9999996</td> <td>                s.11</td> <td>                True</td>\n",
              "</tr>\n",
              "</table>"
            ],
            "text/plain": [
              "<class 'statsmodels.iolib.summary.Summary'>\n",
              "\"\"\"\n",
              "                       ExponentialSmoothing Model Results                       \n",
              "================================================================================\n",
              "Dep. Variable:                    endog   No. Observations:                  610\n",
              "Model:             ExponentialSmoothing   SSE                             90.610\n",
              "Optimized:                         True   AIC                          -1131.205\n",
              "Trend:                         Additive   BIC                          -1060.590\n",
              "Seasonal:                Multiplicative   AICC                         -1130.048\n",
              "Seasonal Periods:                    12   Date:                 Wed, 08 Sep 2021\n",
              "Box-Cox:                           True   Time:                         20:06:12\n",
              "Box-Cox Coeff.:                -2.26216                                         \n",
              "=================================================================================\n",
              "                          coeff                 code              optimized      \n",
              "---------------------------------------------------------------------------------\n",
              "smoothing_level               0.3684211                alpha                 True\n",
              "smoothing_slope               0.0526316                 beta                 True\n",
              "smoothing_seasonal            0.3684211                gamma                 True\n",
              "initial_level                 0.4420550                  l.0                 True\n",
              "initial_slope                4.4939e-10                  b.0                 True\n",
              "initial_seasons.0             0.9999996                  s.0                 True\n",
              "initial_seasons.1             0.9999996                  s.1                 True\n",
              "initial_seasons.2             0.9999996                  s.2                 True\n",
              "initial_seasons.3             0.9999996                  s.3                 True\n",
              "initial_seasons.4             0.9999996                  s.4                 True\n",
              "initial_seasons.5             0.9999996                  s.5                 True\n",
              "initial_seasons.6             0.9999996                  s.6                 True\n",
              "initial_seasons.7             0.9999996                  s.7                 True\n",
              "initial_seasons.8             0.9999996                  s.8                 True\n",
              "initial_seasons.9             0.9999996                  s.9                 True\n",
              "initial_seasons.10            0.9999996                 s.10                 True\n",
              "initial_seasons.11            0.9999996                 s.11                 True\n",
              "---------------------------------------------------------------------------------\n",
              "\"\"\""
            ]
          },
          "metadata": {},
          "execution_count": 18
        }
      ]
    },
    {
      "cell_type": "code",
      "metadata": {
        "colab": {
          "base_uri": "https://localhost:8080/",
          "height": 574
        },
        "id": "_QMpzrfDmOxy",
        "outputId": "2927ee4e-5110-4913-c320-b4db3e426957"
      },
      "source": [
        "ets_model_fit_without_box_cox.summary()"
      ],
      "execution_count": 19,
      "outputs": [
        {
          "output_type": "execute_result",
          "data": {
            "text/html": [
              "<table class=\"simpletable\">\n",
              "<caption>ExponentialSmoothing Model Results</caption>\n",
              "<tr>\n",
              "  <th>Dep. Variable:</th>            <td>endog</td>        <th>  No. Observations:  </th>        <td>610</td>      \n",
              "</tr>\n",
              "<tr>\n",
              "  <th>Model:</th>            <td>ExponentialSmoothing</td> <th>  SSE                </th>      <td>61.374</td>     \n",
              "</tr>\n",
              "<tr>\n",
              "  <th>Optimized:</th>                <td>True</td>         <th>  AIC                </th>     <td>-1368.843</td>   \n",
              "</tr>\n",
              "<tr>\n",
              "  <th>Trend:</th>                  <td>Additive</td>       <th>  BIC                </th>     <td>-1298.228</td>   \n",
              "</tr>\n",
              "<tr>\n",
              "  <th>Seasonal:</th>            <td>Multiplicative</td>    <th>  AICC               </th>     <td>-1367.686</td>   \n",
              "</tr>\n",
              "<tr>\n",
              "  <th>Seasonal Periods:</th>          <td>12</td>          <th>  Date:              </th> <td>Wed, 08 Sep 2021</td>\n",
              "</tr>\n",
              "<tr>\n",
              "  <th>Box-Cox:</th>                  <td>False</td>        <th>  Time:              </th>     <td>20:06:15</td>    \n",
              "</tr>\n",
              "<tr>\n",
              "  <th>Box-Cox Coeff.:</th>           <td>None</td>         <th>                     </th>         <td> </td>       \n",
              "</tr>\n",
              "</table>\n",
              "<table class=\"simpletable\">\n",
              "<tr>\n",
              "           <td></td>                  <th>coeff</th>                <th>code</th>               <th>optimized</th>     \n",
              "</tr>\n",
              "<tr>\n",
              "  <th>smoothing_level</th>    <td>           0.6865034</td> <td>               alpha</td> <td>                True</td>\n",
              "</tr>\n",
              "<tr>\n",
              "  <th>smoothing_slope</th>    <td>           0.0086210</td> <td>                beta</td> <td>                True</td>\n",
              "</tr>\n",
              "<tr>\n",
              "  <th>smoothing_seasonal</th> <td>            0.000000</td> <td>               gamma</td> <td>                True</td>\n",
              "</tr>\n",
              "<tr>\n",
              "  <th>initial_level</th>      <td>           346.02072</td> <td>                 l.0</td> <td>                True</td>\n",
              "</tr>\n",
              "<tr>\n",
              "  <th>initial_slope</th>      <td>           0.0928576</td> <td>                 b.0</td> <td>                True</td>\n",
              "</tr>\n",
              "<tr>\n",
              "  <th>initial_seasons.0</th>  <td>           0.9124603</td> <td>                 s.0</td> <td>                True</td>\n",
              "</tr>\n",
              "<tr>\n",
              "  <th>initial_seasons.1</th>  <td>           0.9155601</td> <td>                 s.1</td> <td>                True</td>\n",
              "</tr>\n",
              "<tr>\n",
              "  <th>initial_seasons.2</th>  <td>           0.9167087</td> <td>                 s.2</td> <td>                True</td>\n",
              "</tr>\n",
              "<tr>\n",
              "  <th>initial_seasons.3</th>  <td>           0.9149107</td> <td>                 s.3</td> <td>                True</td>\n",
              "</tr>\n",
              "<tr>\n",
              "  <th>initial_seasons.4</th>  <td>           0.9108762</td> <td>                 s.4</td> <td>                True</td>\n",
              "</tr>\n",
              "<tr>\n",
              "  <th>initial_seasons.5</th>  <td>           0.9053548</td> <td>                 s.5</td> <td>                True</td>\n",
              "</tr>\n",
              "<tr>\n",
              "  <th>initial_seasons.6</th>  <td>           0.9006304</td> <td>                 s.6</td> <td>                True</td>\n",
              "</tr>\n",
              "<tr>\n",
              "  <th>initial_seasons.7</th>  <td>           0.9002602</td> <td>                 s.7</td> <td>                True</td>\n",
              "</tr>\n",
              "<tr>\n",
              "  <th>initial_seasons.8</th>  <td>           0.9033936</td> <td>                 s.8</td> <td>                True</td>\n",
              "</tr>\n",
              "<tr>\n",
              "  <th>initial_seasons.9</th>  <td>           0.9064402</td> <td>                 s.9</td> <td>                True</td>\n",
              "</tr>\n",
              "<tr>\n",
              "  <th>initial_seasons.10</th> <td>           0.9088607</td> <td>                s.10</td> <td>                True</td>\n",
              "</tr>\n",
              "<tr>\n",
              "  <th>initial_seasons.11</th> <td>           0.9106950</td> <td>                s.11</td> <td>                True</td>\n",
              "</tr>\n",
              "</table>"
            ],
            "text/plain": [
              "<class 'statsmodels.iolib.summary.Summary'>\n",
              "\"\"\"\n",
              "                       ExponentialSmoothing Model Results                       \n",
              "================================================================================\n",
              "Dep. Variable:                    endog   No. Observations:                  610\n",
              "Model:             ExponentialSmoothing   SSE                             61.374\n",
              "Optimized:                         True   AIC                          -1368.843\n",
              "Trend:                         Additive   BIC                          -1298.228\n",
              "Seasonal:                Multiplicative   AICC                         -1367.686\n",
              "Seasonal Periods:                    12   Date:                 Wed, 08 Sep 2021\n",
              "Box-Cox:                          False   Time:                         20:06:15\n",
              "Box-Cox Coeff.:                    None                                         \n",
              "=================================================================================\n",
              "                          coeff                 code              optimized      \n",
              "---------------------------------------------------------------------------------\n",
              "smoothing_level               0.6865034                alpha                 True\n",
              "smoothing_slope               0.0086210                 beta                 True\n",
              "smoothing_seasonal             0.000000                gamma                 True\n",
              "initial_level                 346.02072                  l.0                 True\n",
              "initial_slope                 0.0928576                  b.0                 True\n",
              "initial_seasons.0             0.9124603                  s.0                 True\n",
              "initial_seasons.1             0.9155601                  s.1                 True\n",
              "initial_seasons.2             0.9167087                  s.2                 True\n",
              "initial_seasons.3             0.9149107                  s.3                 True\n",
              "initial_seasons.4             0.9108762                  s.4                 True\n",
              "initial_seasons.5             0.9053548                  s.5                 True\n",
              "initial_seasons.6             0.9006304                  s.6                 True\n",
              "initial_seasons.7             0.9002602                  s.7                 True\n",
              "initial_seasons.8             0.9033936                  s.8                 True\n",
              "initial_seasons.9             0.9064402                  s.9                 True\n",
              "initial_seasons.10            0.9088607                 s.10                 True\n",
              "initial_seasons.11            0.9106950                 s.11                 True\n",
              "---------------------------------------------------------------------------------\n",
              "\"\"\""
            ]
          },
          "metadata": {},
          "execution_count": 19
        }
      ]
    },
    {
      "cell_type": "markdown",
      "metadata": {
        "id": "YhrTYC03mOxy"
      },
      "source": [
        "### 6.1 Forecasting on Test data"
      ]
    },
    {
      "cell_type": "code",
      "metadata": {
        "scrolled": true,
        "colab": {
          "base_uri": "https://localhost:8080/",
          "height": 297
        },
        "id": "KMSgN9-imOxy",
        "outputId": "6eeab176-c80a-463f-eab4-6590f3ab9f56"
      },
      "source": [
        "start = len(train) \n",
        "end = len(train) + len(test) - 1\n",
        "  \n",
        "# Predictions the test set \n",
        "exponential_model_predictions = ets_model_fit_with_box_cox.predict(start, end).rename(\"Holt-Winters Predictions with Box Cox\") \n",
        "  \n",
        "# plot predictions and actual values \n",
        "exponential_model_predictions.plot(legend = True) \n",
        "test.rename(\"Actual Co2\").plot(legend = True)"
      ],
      "execution_count": 20,
      "outputs": [
        {
          "output_type": "execute_result",
          "data": {
            "text/plain": [
              "<matplotlib.axes._subplots.AxesSubplot at 0x7f97f170c8d0>"
            ]
          },
          "metadata": {},
          "execution_count": 20
        },
        {
          "output_type": "display_data",
          "data": {
            "image/png": "[encoded data removed]",
            "text/plain": [
              "<Figure size 432x288 with 1 Axes>"
            ]
          },
          "metadata": {
            "needs_background": "light"
          }
        }
      ]
    },
    {
      "cell_type": "code",
      "metadata": {
        "colab": {
          "base_uri": "https://localhost:8080/",
          "height": 297
        },
        "id": "k3HEyY1emOxy",
        "outputId": "4bc80e94-e0e9-4edc-f458-82b6da6fc777"
      },
      "source": [
        "start = len(train) \n",
        "end = len(train) + len(test) - 1\n",
        "  \n",
        "# Predictions the test set \n",
        "exponential_model_predictions_without_box_cox = ets_model_fit_without_box_cox.predict(start, end).rename(\"Holt-Winters Predictions without Box Cox\") \n",
        "  \n",
        "# plot predictions and actual values \n",
        "exponential_model_predictions_without_box_cox.plot(legend = True) \n",
        "test.rename(\"Actual Co2\").plot(legend = True)"
      ],
      "execution_count": 21,
      "outputs": [
        {
          "output_type": "execute_result",
          "data": {
            "text/plain": [
              "<matplotlib.axes._subplots.AxesSubplot at 0x7f97efe07590>"
            ]
          },
          "metadata": {},
          "execution_count": 21
        },
        {
          "output_type": "display_data",
          "data": {
            "image/png": "[encoded data removed]",
            "text/plain": [
              "<Figure size 432x288 with 1 Axes>"
            ]
          },
          "metadata": {
            "needs_background": "light"
          }
        }
      ]
    },
    {
      "cell_type": "code",
      "metadata": {
        "colab": {
          "base_uri": "https://localhost:8080/",
          "height": 808
        },
        "id": "YVKyuKH0mOxz",
        "outputId": "a076557d-1ba6-4650-d44e-c9099a13c721"
      },
      "source": [
        "from statsmodels.graphics.tsaplots import plot_acf\n",
        "resid_boxcox = ets_model_fit_with_box_cox.resid\n",
        "resid_boxcox.plot()\n",
        "plot_acf(resid_boxcox)"
      ],
      "execution_count": 22,
      "outputs": [
        {
          "output_type": "execute_result",
          "data": {
            "image/png": "[encoded data removed]",
            "text/plain": [
              "<Figure size 432x288 with 1 Axes>"
            ]
          },
          "metadata": {},
          "execution_count": 22
        },
        {
          "output_type": "display_data",
          "data": {
            "image/png": "[encoded data removed]",
            "text/plain": [
              "<Figure size 432x288 with 1 Axes>"
            ]
          },
          "metadata": {
            "needs_background": "light"
          }
        },
        {
          "output_type": "display_data",
          "data": {
            "image/png": "[encoded data removed]",
            "text/plain": [
              "<Figure size 432x288 with 1 Axes>"
            ]
          },
          "metadata": {
            "needs_background": "light"
          }
        }
      ]
    },
    {
      "cell_type": "markdown",
      "metadata": {
        "id": "QluXNq8dmOxz"
      },
      "source": [
        "### 6.2. Model Metrics and Evaluation"
      ]
    },
    {
      "cell_type": "code",
      "metadata": {
        "colab": {
          "base_uri": "https://localhost:8080/",
          "height": 81
        },
        "id": "QuOkHeUbmOxz",
        "outputId": "b218bc99-ea32-46a5-fbdf-1bee4d3b74f3"
      },
      "source": [
        "accuracy(test,exponential_model_predictions_without_box_cox)"
      ],
      "execution_count": 23,
      "outputs": [
        {
          "output_type": "execute_result",
          "data": {
            "text/html": [
              "<div>\n",
              "<style scoped>\n",
              "    .dataframe tbody tr th:only-of-type {\n",
              "        vertical-align: middle;\n",
              "    }\n",
              "\n",
              "    .dataframe tbody tr th {\n",
              "        vertical-align: top;\n",
              "    }\n",
              "\n",
              "    .dataframe thead th {\n",
              "        text-align: right;\n",
              "    }\n",
              "</style>\n",
              "<table border=\"1\" class=\"dataframe\">\n",
              "  <thead>\n",
              "    <tr style=\"text-align: right;\">\n",
              "      <th></th>\n",
              "      <th>%MAPE</th>\n",
              "      <th>MAE</th>\n",
              "      <th>MFE</th>\n",
              "      <th>RMSE</th>\n",
              "    </tr>\n",
              "  </thead>\n",
              "  <tbody>\n",
              "    <tr>\n",
              "      <th>0</th>\n",
              "      <td>0.5</td>\n",
              "      <td>1.9</td>\n",
              "      <td>1.9</td>\n",
              "      <td>2.4</td>\n",
              "    </tr>\n",
              "  </tbody>\n",
              "</table>\n",
              "</div>"
            ],
            "text/plain": [
              "   %MAPE  MAE  MFE  RMSE\n",
              "0    0.5  1.9  1.9   2.4"
            ]
          },
          "metadata": {},
          "execution_count": 23
        }
      ]
    },
    {
      "cell_type": "code",
      "metadata": {
        "colab": {
          "base_uri": "https://localhost:8080/",
          "height": 81
        },
        "id": "R1A23443mOxz",
        "outputId": "3376e0e7-5342-4c91-f48a-a4d790a041a8"
      },
      "source": [
        "accuracy(test,exponential_model_predictions)"
      ],
      "execution_count": 24,
      "outputs": [
        {
          "output_type": "execute_result",
          "data": {
            "text/html": [
              "<div>\n",
              "<style scoped>\n",
              "    .dataframe tbody tr th:only-of-type {\n",
              "        vertical-align: middle;\n",
              "    }\n",
              "\n",
              "    .dataframe tbody tr th {\n",
              "        vertical-align: top;\n",
              "    }\n",
              "\n",
              "    .dataframe thead th {\n",
              "        text-align: right;\n",
              "    }\n",
              "</style>\n",
              "<table border=\"1\" class=\"dataframe\">\n",
              "  <thead>\n",
              "    <tr style=\"text-align: right;\">\n",
              "      <th></th>\n",
              "      <th>%MAPE</th>\n",
              "      <th>MAE</th>\n",
              "      <th>MFE</th>\n",
              "      <th>RMSE</th>\n",
              "    </tr>\n",
              "  </thead>\n",
              "  <tbody>\n",
              "    <tr>\n",
              "      <th>0</th>\n",
              "      <td>0.2</td>\n",
              "      <td>0.7</td>\n",
              "      <td>0.6</td>\n",
              "      <td>0.9</td>\n",
              "    </tr>\n",
              "  </tbody>\n",
              "</table>\n",
              "</div>"
            ],
            "text/plain": [
              "   %MAPE  MAE  MFE  RMSE\n",
              "0    0.2  0.7  0.6   0.9"
            ]
          },
          "metadata": {},
          "execution_count": 24
        }
      ]
    },
    {
      "cell_type": "markdown",
      "metadata": {
        "id": "PwHLTRDXmOx0"
      },
      "source": [
        "# Using FB Prophet for Modeling and Evaluation"
      ]
    },
    {
      "cell_type": "code",
      "metadata": {
        "colab": {
          "base_uri": "https://localhost:8080/",
          "height": 237
        },
        "id": "WQeWNI_smOx0",
        "outputId": "ec4205c1-cbb0-418b-cd82-ae7d0be6c3ad"
      },
      "source": [
        "co2_month = maunaloa[['co2']].copy()\n",
        "co2_month.head()"
      ],
      "execution_count": 28,
      "outputs": [
        {
          "output_type": "execute_result",
          "data": {
            "text/html": [
              "<div>\n",
              "<style scoped>\n",
              "    .dataframe tbody tr th:only-of-type {\n",
              "        vertical-align: middle;\n",
              "    }\n",
              "\n",
              "    .dataframe tbody tr th {\n",
              "        vertical-align: top;\n",
              "    }\n",
              "\n",
              "    .dataframe thead th {\n",
              "        text-align: right;\n",
              "    }\n",
              "</style>\n",
              "<table border=\"1\" class=\"dataframe\">\n",
              "  <thead>\n",
              "    <tr style=\"text-align: right;\">\n",
              "      <th></th>\n",
              "      <th>co2</th>\n",
              "    </tr>\n",
              "    <tr>\n",
              "      <th>Year_Month</th>\n",
              "      <th></th>\n",
              "    </tr>\n",
              "  </thead>\n",
              "  <tbody>\n",
              "    <tr>\n",
              "      <th>1958-03-01</th>\n",
              "      <td>315.69</td>\n",
              "    </tr>\n",
              "    <tr>\n",
              "      <th>1958-04-01</th>\n",
              "      <td>317.45</td>\n",
              "    </tr>\n",
              "    <tr>\n",
              "      <th>1958-05-01</th>\n",
              "      <td>317.50</td>\n",
              "    </tr>\n",
              "    <tr>\n",
              "      <th>1958-06-01</th>\n",
              "      <td>NaN</td>\n",
              "    </tr>\n",
              "    <tr>\n",
              "      <th>1958-07-01</th>\n",
              "      <td>315.86</td>\n",
              "    </tr>\n",
              "  </tbody>\n",
              "</table>\n",
              "</div>"
            ],
            "text/plain": [
              "               co2\n",
              "Year_Month        \n",
              "1958-03-01  315.69\n",
              "1958-04-01  317.45\n",
              "1958-05-01  317.50\n",
              "1958-06-01     NaN\n",
              "1958-07-01  315.86"
            ]
          },
          "metadata": {},
          "execution_count": 28
        }
      ]
    },
    {
      "cell_type": "code",
      "metadata": {
        "colab": {
          "base_uri": "https://localhost:8080/",
          "height": 237
        },
        "id": "FgxQd3KNmOx0",
        "outputId": "cbabfddf-6eed-42c4-a551-3dc0d480e329"
      },
      "source": [
        "# Resample from weekly to monthly\n",
        "co2_month = maunaloa.co2.resample(\"MS\").mean()\n",
        "\n",
        "# Backfill any missing values\n",
        "co2_month.fillna(method='bfill', inplace=True)\n",
        "co2_month = co2_month.to_frame()\n",
        "co2_month.head()"
      ],
      "execution_count": 30,
      "outputs": [
        {
          "output_type": "execute_result",
          "data": {
            "text/html": [
              "<div>\n",
              "<style scoped>\n",
              "    .dataframe tbody tr th:only-of-type {\n",
              "        vertical-align: middle;\n",
              "    }\n",
              "\n",
              "    .dataframe tbody tr th {\n",
              "        vertical-align: top;\n",
              "    }\n",
              "\n",
              "    .dataframe thead th {\n",
              "        text-align: right;\n",
              "    }\n",
              "</style>\n",
              "<table border=\"1\" class=\"dataframe\">\n",
              "  <thead>\n",
              "    <tr style=\"text-align: right;\">\n",
              "      <th></th>\n",
              "      <th>co2</th>\n",
              "    </tr>\n",
              "    <tr>\n",
              "      <th>Year_Month</th>\n",
              "      <th></th>\n",
              "    </tr>\n",
              "  </thead>\n",
              "  <tbody>\n",
              "    <tr>\n",
              "      <th>1958-03-01</th>\n",
              "      <td>315.69</td>\n",
              "    </tr>\n",
              "    <tr>\n",
              "      <th>1958-04-01</th>\n",
              "      <td>317.45</td>\n",
              "    </tr>\n",
              "    <tr>\n",
              "      <th>1958-05-01</th>\n",
              "      <td>317.50</td>\n",
              "    </tr>\n",
              "    <tr>\n",
              "      <th>1958-06-01</th>\n",
              "      <td>315.86</td>\n",
              "    </tr>\n",
              "    <tr>\n",
              "      <th>1958-07-01</th>\n",
              "      <td>315.86</td>\n",
              "    </tr>\n",
              "  </tbody>\n",
              "</table>\n",
              "</div>"
            ],
            "text/plain": [
              "               co2\n",
              "Year_Month        \n",
              "1958-03-01  315.69\n",
              "1958-04-01  317.45\n",
              "1958-05-01  317.50\n",
              "1958-06-01  315.86\n",
              "1958-07-01  315.86"
            ]
          },
          "metadata": {},
          "execution_count": 30
        }
      ]
    },
    {
      "cell_type": "code",
      "metadata": {
        "colab": {
          "base_uri": "https://localhost:8080/",
          "height": 206
        },
        "id": "_apxZJlYmOx0",
        "outputId": "6689380b-24b6-4b27-e3bd-29525d57d5ad"
      },
      "source": [
        "# Reset the index to make the dates an ordinary column\n",
        "co2_month.reset_index(inplace=True)\n",
        "\n",
        "# Rename the columns\n",
        "co2_month.columns = ['ds', 'y']\n",
        "co2_month.head()"
      ],
      "execution_count": 31,
      "outputs": [
        {
          "output_type": "execute_result",
          "data": {
            "text/html": [
              "<div>\n",
              "<style scoped>\n",
              "    .dataframe tbody tr th:only-of-type {\n",
              "        vertical-align: middle;\n",
              "    }\n",
              "\n",
              "    .dataframe tbody tr th {\n",
              "        vertical-align: top;\n",
              "    }\n",
              "\n",
              "    .dataframe thead th {\n",
              "        text-align: right;\n",
              "    }\n",
              "</style>\n",
              "<table border=\"1\" class=\"dataframe\">\n",
              "  <thead>\n",
              "    <tr style=\"text-align: right;\">\n",
              "      <th></th>\n",
              "      <th>ds</th>\n",
              "      <th>y</th>\n",
              "    </tr>\n",
              "  </thead>\n",
              "  <tbody>\n",
              "    <tr>\n",
              "      <th>0</th>\n",
              "      <td>1958-03-01</td>\n",
              "      <td>315.69</td>\n",
              "    </tr>\n",
              "    <tr>\n",
              "      <th>1</th>\n",
              "      <td>1958-04-01</td>\n",
              "      <td>317.45</td>\n",
              "    </tr>\n",
              "    <tr>\n",
              "      <th>2</th>\n",
              "      <td>1958-05-01</td>\n",
              "      <td>317.50</td>\n",
              "    </tr>\n",
              "    <tr>\n",
              "      <th>3</th>\n",
              "      <td>1958-06-01</td>\n",
              "      <td>315.86</td>\n",
              "    </tr>\n",
              "    <tr>\n",
              "      <th>4</th>\n",
              "      <td>1958-07-01</td>\n",
              "      <td>315.86</td>\n",
              "    </tr>\n",
              "  </tbody>\n",
              "</table>\n",
              "</div>"
            ],
            "text/plain": [
              "          ds       y\n",
              "0 1958-03-01  315.69\n",
              "1 1958-04-01  317.45\n",
              "2 1958-05-01  317.50\n",
              "3 1958-06-01  315.86\n",
              "4 1958-07-01  315.86"
            ]
          },
          "metadata": {},
          "execution_count": 31
        }
      ]
    },
    {
      "cell_type": "code",
      "metadata": {
        "id": "Xve6mxLfmOx0"
      },
      "source": [
        "co2_train = co2_month[0:610]\n",
        "co2_test  = co2_month[610:708]"
      ],
      "execution_count": 32,
      "outputs": []
    },
    {
      "cell_type": "code",
      "metadata": {
        "colab": {
          "base_uri": "https://localhost:8080/",
          "height": 206
        },
        "id": "hUZi_TA2mOx0",
        "outputId": "4583f921-e4ba-4b1f-9b11-83388dab6c7d"
      },
      "source": [
        "co2_train.head()"
      ],
      "execution_count": 33,
      "outputs": [
        {
          "output_type": "execute_result",
          "data": {
            "text/html": [
              "<div>\n",
              "<style scoped>\n",
              "    .dataframe tbody tr th:only-of-type {\n",
              "        vertical-align: middle;\n",
              "    }\n",
              "\n",
              "    .dataframe tbody tr th {\n",
              "        vertical-align: top;\n",
              "    }\n",
              "\n",
              "    .dataframe thead th {\n",
              "        text-align: right;\n",
              "    }\n",
              "</style>\n",
              "<table border=\"1\" class=\"dataframe\">\n",
              "  <thead>\n",
              "    <tr style=\"text-align: right;\">\n",
              "      <th></th>\n",
              "      <th>ds</th>\n",
              "      <th>y</th>\n",
              "    </tr>\n",
              "  </thead>\n",
              "  <tbody>\n",
              "    <tr>\n",
              "      <th>0</th>\n",
              "      <td>1958-03-01</td>\n",
              "      <td>315.69</td>\n",
              "    </tr>\n",
              "    <tr>\n",
              "      <th>1</th>\n",
              "      <td>1958-04-01</td>\n",
              "      <td>317.45</td>\n",
              "    </tr>\n",
              "    <tr>\n",
              "      <th>2</th>\n",
              "      <td>1958-05-01</td>\n",
              "      <td>317.50</td>\n",
              "    </tr>\n",
              "    <tr>\n",
              "      <th>3</th>\n",
              "      <td>1958-06-01</td>\n",
              "      <td>315.86</td>\n",
              "    </tr>\n",
              "    <tr>\n",
              "      <th>4</th>\n",
              "      <td>1958-07-01</td>\n",
              "      <td>315.86</td>\n",
              "    </tr>\n",
              "  </tbody>\n",
              "</table>\n",
              "</div>"
            ],
            "text/plain": [
              "          ds       y\n",
              "0 1958-03-01  315.69\n",
              "1 1958-04-01  317.45\n",
              "2 1958-05-01  317.50\n",
              "3 1958-06-01  315.86\n",
              "4 1958-07-01  315.86"
            ]
          },
          "metadata": {},
          "execution_count": 33
        }
      ]
    },
    {
      "cell_type": "markdown",
      "metadata": {
        "id": "ybCxvPcdFOlH"
      },
      "source": [
        "## Train"
      ]
    },
    {
      "cell_type": "code",
      "metadata": {
        "colab": {
          "base_uri": "https://localhost:8080/"
        },
        "id": "lXH-DACgmOx1",
        "outputId": "430d06d0-0a22-4881-a846-1aa9d0822712"
      },
      "source": [
        "from fbprophet import Prophet\n",
        "# Fit model to training data and forecast\n",
        "model = Prophet()\n",
        "model.add_seasonality(name='yearly', period=365, fourier_order=1, prior_scale=0.1, mode='multiplicative')"
      ],
      "execution_count": 38,
      "outputs": [
        {
          "output_type": "execute_result",
          "data": {
            "text/plain": [
              "<fbprophet.forecaster.Prophet at 0x7f97efbced90>"
            ]
          },
          "metadata": {},
          "execution_count": 38
        }
      ]
    },
    {
      "cell_type": "code",
      "metadata": {
        "colab": {
          "base_uri": "https://localhost:8080/"
        },
        "id": "b5YrEIVFmOx1",
        "outputId": "85eaa903-bed4-482a-f232-3baaaff5b9e5"
      },
      "source": [
        "model.fit(co2_train)"
      ],
      "execution_count": 39,
      "outputs": [
        {
          "output_type": "stream",
          "name": "stderr",
          "text": [
            "INFO:numexpr.utils:NumExpr defaulting to 2 threads.\n",
            "INFO:fbprophet:Found custom seasonality named 'yearly', disabling built-in 'yearly' seasonality.\n",
            "INFO:fbprophet:Disabling weekly seasonality. Run prophet with weekly_seasonality=True to override this.\n",
            "INFO:fbprophet:Disabling daily seasonality. Run prophet with daily_seasonality=True to override this.\n"
          ]
        },
        {
          "output_type": "execute_result",
          "data": {
            "text/plain": [
              "<fbprophet.forecaster.Prophet at 0x7f97efbced90>"
            ]
          },
          "metadata": {},
          "execution_count": 39
        }
      ]
    },
    {
      "cell_type": "markdown",
      "metadata": {
        "id": "mlzw7MCLFUvi"
      },
      "source": [
        "## Test and Predict"
      ]
    },
    {
      "cell_type": "code",
      "metadata": {
        "colab": {
          "base_uri": "https://localhost:8080/",
          "height": 362
        },
        "id": "QwLyUigfmOx1",
        "outputId": "be4a5c34-b40d-469e-e798-11fe04708456"
      },
      "source": [
        "future = model.make_future_dataframe(periods=98, freq='MS')\n",
        "future.tail(10)"
      ],
      "execution_count": 40,
      "outputs": [
        {
          "output_type": "execute_result",
          "data": {
            "text/html": [
              "<div>\n",
              "<style scoped>\n",
              "    .dataframe tbody tr th:only-of-type {\n",
              "        vertical-align: middle;\n",
              "    }\n",
              "\n",
              "    .dataframe tbody tr th {\n",
              "        vertical-align: top;\n",
              "    }\n",
              "\n",
              "    .dataframe thead th {\n",
              "        text-align: right;\n",
              "    }\n",
              "</style>\n",
              "<table border=\"1\" class=\"dataframe\">\n",
              "  <thead>\n",
              "    <tr style=\"text-align: right;\">\n",
              "      <th></th>\n",
              "      <th>ds</th>\n",
              "    </tr>\n",
              "  </thead>\n",
              "  <tbody>\n",
              "    <tr>\n",
              "      <th>698</th>\n",
              "      <td>2016-05-01</td>\n",
              "    </tr>\n",
              "    <tr>\n",
              "      <th>699</th>\n",
              "      <td>2016-06-01</td>\n",
              "    </tr>\n",
              "    <tr>\n",
              "      <th>700</th>\n",
              "      <td>2016-07-01</td>\n",
              "    </tr>\n",
              "    <tr>\n",
              "      <th>701</th>\n",
              "      <td>2016-08-01</td>\n",
              "    </tr>\n",
              "    <tr>\n",
              "      <th>702</th>\n",
              "      <td>2016-09-01</td>\n",
              "    </tr>\n",
              "    <tr>\n",
              "      <th>703</th>\n",
              "      <td>2016-10-01</td>\n",
              "    </tr>\n",
              "    <tr>\n",
              "      <th>704</th>\n",
              "      <td>2016-11-01</td>\n",
              "    </tr>\n",
              "    <tr>\n",
              "      <th>705</th>\n",
              "      <td>2016-12-01</td>\n",
              "    </tr>\n",
              "    <tr>\n",
              "      <th>706</th>\n",
              "      <td>2017-01-01</td>\n",
              "    </tr>\n",
              "    <tr>\n",
              "      <th>707</th>\n",
              "      <td>2017-02-01</td>\n",
              "    </tr>\n",
              "  </tbody>\n",
              "</table>\n",
              "</div>"
            ],
            "text/plain": [
              "            ds\n",
              "698 2016-05-01\n",
              "699 2016-06-01\n",
              "700 2016-07-01\n",
              "701 2016-08-01\n",
              "702 2016-09-01\n",
              "703 2016-10-01\n",
              "704 2016-11-01\n",
              "705 2016-12-01\n",
              "706 2017-01-01\n",
              "707 2017-02-01"
            ]
          },
          "metadata": {},
          "execution_count": 40
        }
      ]
    },
    {
      "cell_type": "code",
      "metadata": {
        "id": "XQbpnP4qmOx1"
      },
      "source": [
        "# Make predictions and compare to test data\n",
        "y_pred = model.predict(co2_test)"
      ],
      "execution_count": 41,
      "outputs": []
    },
    {
      "cell_type": "code",
      "metadata": {
        "colab": {
          "base_uri": "https://localhost:8080/",
          "height": 474
        },
        "id": "KACbmyOMmOx1",
        "outputId": "39c1c1a5-005d-4d34-d126-1e6d514d03be"
      },
      "source": [
        "future = model.make_future_dataframe(periods=98, freq='MS')\n",
        "forecast = model.predict(future)\n",
        "\n",
        "# Plot the model and forecast\n",
        "model.plot(forecast, uncertainty=True)\n",
        "plt.title('Training data with forecast')\n",
        "plt.legend();"
      ],
      "execution_count": 42,
      "outputs": [
        {
          "output_type": "stream",
          "name": "stderr",
          "text": [
            "WARNING:matplotlib.legend:No handles with labels found to put in legend.\n"
          ]
        },
        {
          "output_type": "display_data",
          "data": {
            "image/png": "[encoded data removed]",
            "text/plain": [
              "<Figure size 720x432 with 1 Axes>"
            ]
          },
          "metadata": {}
        }
      ]
    },
    {
      "cell_type": "markdown",
      "metadata": {
        "id": "OMbo1XlcF_3J"
      },
      "source": [
        "## Visualize Forecasts and Decompositions for Explainability"
      ]
    },
    {
      "cell_type": "code",
      "metadata": {
        "colab": {
          "base_uri": "https://localhost:8080/",
          "height": 457
        },
        "id": "4Z3SFtEtmOx1",
        "outputId": "7ad39c74-154e-4740-b73a-17806c368823"
      },
      "source": [
        "# Plot the model, forecast, and actual (test) data\n",
        "model.plot(y_pred, uncertainty=True)\n",
        "plt.plot(co2_test['ds'], co2_test['y'], color='r', label='actual')\n",
        "plt.title('Validation data v. forecast')\n",
        "plt.legend();"
      ],
      "execution_count": 43,
      "outputs": [
        {
          "output_type": "display_data",
          "data": {
            "image/png": "[encoded data removed]",
            "text/plain": [
              "<Figure size 720x432 with 1 Axes>"
            ]
          },
          "metadata": {}
        }
      ]
    },
    {
      "cell_type": "code",
      "metadata": {
        "scrolled": true,
        "colab": {
          "base_uri": "https://localhost:8080/",
          "height": 441
        },
        "id": "HoqaWeTomOx2",
        "outputId": "49516dae-3a7a-4366-e24f-55092db297e6"
      },
      "source": [
        "# Plot the model components\n",
        "model.plot_components(forecast);"
      ],
      "execution_count": 44,
      "outputs": [
        {
          "output_type": "display_data",
          "data": {
            "image/png": "[encoded data removed]",
            "text/plain": [
              "<Figure size 648x432 with 2 Axes>"
            ]
          },
          "metadata": {}
        }
      ]
    },
    {
      "cell_type": "code",
      "metadata": {
        "colab": {
          "base_uri": "https://localhost:8080/",
          "height": 313
        },
        "id": "W64BCFdOmOx2",
        "outputId": "953a45a1-008a-41af-b4ec-74a57fec5ecb"
      },
      "source": [
        "forecast.tail(5)"
      ],
      "execution_count": 45,
      "outputs": [
        {
          "output_type": "execute_result",
          "data": {
            "text/html": [
              "<div>\n",
              "<style scoped>\n",
              "    .dataframe tbody tr th:only-of-type {\n",
              "        vertical-align: middle;\n",
              "    }\n",
              "\n",
              "    .dataframe tbody tr th {\n",
              "        vertical-align: top;\n",
              "    }\n",
              "\n",
              "    .dataframe thead th {\n",
              "        text-align: right;\n",
              "    }\n",
              "</style>\n",
              "<table border=\"1\" class=\"dataframe\">\n",
              "  <thead>\n",
              "    <tr style=\"text-align: right;\">\n",
              "      <th></th>\n",
              "      <th>ds</th>\n",
              "      <th>trend</th>\n",
              "      <th>yhat_lower</th>\n",
              "      <th>yhat_upper</th>\n",
              "      <th>trend_lower</th>\n",
              "      <th>trend_upper</th>\n",
              "      <th>multiplicative_terms</th>\n",
              "      <th>multiplicative_terms_lower</th>\n",
              "      <th>multiplicative_terms_upper</th>\n",
              "      <th>yearly</th>\n",
              "      <th>yearly_lower</th>\n",
              "      <th>yearly_upper</th>\n",
              "      <th>additive_terms</th>\n",
              "      <th>additive_terms_lower</th>\n",
              "      <th>additive_terms_upper</th>\n",
              "      <th>yhat</th>\n",
              "    </tr>\n",
              "  </thead>\n",
              "  <tbody>\n",
              "    <tr>\n",
              "      <th>703</th>\n",
              "      <td>2016-10-01</td>\n",
              "      <td>401.632564</td>\n",
              "      <td>395.074333</td>\n",
              "      <td>401.359255</td>\n",
              "      <td>398.592396</td>\n",
              "      <td>404.617450</td>\n",
              "      <td>-0.008137</td>\n",
              "      <td>-0.008137</td>\n",
              "      <td>-0.008137</td>\n",
              "      <td>-0.008137</td>\n",
              "      <td>-0.008137</td>\n",
              "      <td>-0.008137</td>\n",
              "      <td>0.0</td>\n",
              "      <td>0.0</td>\n",
              "      <td>0.0</td>\n",
              "      <td>398.364481</td>\n",
              "    </tr>\n",
              "    <tr>\n",
              "      <th>704</th>\n",
              "      <td>2016-11-01</td>\n",
              "      <td>401.798718</td>\n",
              "      <td>395.817971</td>\n",
              "      <td>402.177284</td>\n",
              "      <td>398.729766</td>\n",
              "      <td>404.833968</td>\n",
              "      <td>-0.006933</td>\n",
              "      <td>-0.006933</td>\n",
              "      <td>-0.006933</td>\n",
              "      <td>-0.006933</td>\n",
              "      <td>-0.006933</td>\n",
              "      <td>-0.006933</td>\n",
              "      <td>0.0</td>\n",
              "      <td>0.0</td>\n",
              "      <td>0.0</td>\n",
              "      <td>399.012904</td>\n",
              "    </tr>\n",
              "    <tr>\n",
              "      <th>705</th>\n",
              "      <td>2016-12-01</td>\n",
              "      <td>401.959513</td>\n",
              "      <td>397.241616</td>\n",
              "      <td>403.632002</td>\n",
              "      <td>398.887540</td>\n",
              "      <td>405.036129</td>\n",
              "      <td>-0.003925</td>\n",
              "      <td>-0.003925</td>\n",
              "      <td>-0.003925</td>\n",
              "      <td>-0.003925</td>\n",
              "      <td>-0.003925</td>\n",
              "      <td>-0.003925</td>\n",
              "      <td>0.0</td>\n",
              "      <td>0.0</td>\n",
              "      <td>0.0</td>\n",
              "      <td>400.381820</td>\n",
              "    </tr>\n",
              "    <tr>\n",
              "      <th>706</th>\n",
              "      <td>2017-01-01</td>\n",
              "      <td>402.125667</td>\n",
              "      <td>398.868199</td>\n",
              "      <td>405.541710</td>\n",
              "      <td>399.005167</td>\n",
              "      <td>405.238132</td>\n",
              "      <td>0.000247</td>\n",
              "      <td>0.000247</td>\n",
              "      <td>0.000247</td>\n",
              "      <td>0.000247</td>\n",
              "      <td>0.000247</td>\n",
              "      <td>0.000247</td>\n",
              "      <td>0.0</td>\n",
              "      <td>0.0</td>\n",
              "      <td>0.0</td>\n",
              "      <td>402.225045</td>\n",
              "    </tr>\n",
              "    <tr>\n",
              "      <th>707</th>\n",
              "      <td>2017-02-01</td>\n",
              "      <td>402.291821</td>\n",
              "      <td>400.709951</td>\n",
              "      <td>407.414508</td>\n",
              "      <td>399.109746</td>\n",
              "      <td>405.451576</td>\n",
              "      <td>0.004351</td>\n",
              "      <td>0.004351</td>\n",
              "      <td>0.004351</td>\n",
              "      <td>0.004351</td>\n",
              "      <td>0.004351</td>\n",
              "      <td>0.004351</td>\n",
              "      <td>0.0</td>\n",
              "      <td>0.0</td>\n",
              "      <td>0.0</td>\n",
              "      <td>404.042011</td>\n",
              "    </tr>\n",
              "  </tbody>\n",
              "</table>\n",
              "</div>"
            ],
            "text/plain": [
              "            ds       trend  ...  additive_terms_upper        yhat\n",
              "703 2016-10-01  401.632564  ...                   0.0  398.364481\n",
              "704 2016-11-01  401.798718  ...                   0.0  399.012904\n",
              "705 2016-12-01  401.959513  ...                   0.0  400.381820\n",
              "706 2017-01-01  402.125667  ...                   0.0  402.225045\n",
              "707 2017-02-01  402.291821  ...                   0.0  404.042011\n",
              "\n",
              "[5 rows x 16 columns]"
            ]
          },
          "metadata": {},
          "execution_count": 45
        }
      ]
    },
    {
      "cell_type": "code",
      "metadata": {
        "colab": {
          "base_uri": "https://localhost:8080/"
        },
        "id": "E4816f5OmOx2",
        "outputId": "c24235cc-85ca-43c4-b47e-0bdf0c102421"
      },
      "source": [
        "test.tail(5)"
      ],
      "execution_count": 46,
      "outputs": [
        {
          "output_type": "execute_result",
          "data": {
            "text/plain": [
              "Year_Month\n",
              "2016-10-01    401.50\n",
              "2016-11-01    403.64\n",
              "2016-12-01    404.55\n",
              "2017-01-01    406.07\n",
              "2017-02-01    406.64\n",
              "Freq: MS, Name: co2, dtype: float64"
            ]
          },
          "metadata": {},
          "execution_count": 46
        }
      ]
    },
    {
      "cell_type": "code",
      "metadata": {
        "id": "L8vdv_wJmOx2"
      },
      "source": [
        "seasonal_features, _, component_cols, _ = model.make_all_seasonality_features(co2_test)"
      ],
      "execution_count": 47,
      "outputs": []
    },
    {
      "cell_type": "code",
      "metadata": {
        "colab": {
          "base_uri": "https://localhost:8080/",
          "height": 362
        },
        "id": "rQKJMdkzmOx2",
        "outputId": "bb26d65f-d86d-4d93-89c8-f48a09782fc3"
      },
      "source": [
        "seasonal_features.tail(10)"
      ],
      "execution_count": 48,
      "outputs": [
        {
          "output_type": "execute_result",
          "data": {
            "text/html": [
              "<div>\n",
              "<style scoped>\n",
              "    .dataframe tbody tr th:only-of-type {\n",
              "        vertical-align: middle;\n",
              "    }\n",
              "\n",
              "    .dataframe tbody tr th {\n",
              "        vertical-align: top;\n",
              "    }\n",
              "\n",
              "    .dataframe thead th {\n",
              "        text-align: right;\n",
              "    }\n",
              "</style>\n",
              "<table border=\"1\" class=\"dataframe\">\n",
              "  <thead>\n",
              "    <tr style=\"text-align: right;\">\n",
              "      <th></th>\n",
              "      <th>yearly_delim_1</th>\n",
              "      <th>yearly_delim_2</th>\n",
              "    </tr>\n",
              "  </thead>\n",
              "  <tbody>\n",
              "    <tr>\n",
              "      <th>88</th>\n",
              "      <td>0.763889</td>\n",
              "      <td>-0.645348</td>\n",
              "    </tr>\n",
              "    <tr>\n",
              "      <th>89</th>\n",
              "      <td>0.329408</td>\n",
              "      <td>-0.944188</td>\n",
              "    </tr>\n",
              "    <tr>\n",
              "      <th>90</th>\n",
              "      <td>-0.179767</td>\n",
              "      <td>-0.983709</td>\n",
              "    </tr>\n",
              "    <tr>\n",
              "      <th>91</th>\n",
              "      <td>-0.655156</td>\n",
              "      <td>-0.755493</td>\n",
              "    </tr>\n",
              "    <tr>\n",
              "      <th>92</th>\n",
              "      <td>-0.948362</td>\n",
              "      <td>-0.317191</td>\n",
              "    </tr>\n",
              "    <tr>\n",
              "      <th>93</th>\n",
              "      <td>-0.981306</td>\n",
              "      <td>0.192452</td>\n",
              "    </tr>\n",
              "    <tr>\n",
              "      <th>94</th>\n",
              "      <td>-0.746972</td>\n",
              "      <td>0.664855</td>\n",
              "    </tr>\n",
              "    <tr>\n",
              "      <th>95</th>\n",
              "      <td>-0.321270</td>\n",
              "      <td>0.946988</td>\n",
              "    </tr>\n",
              "    <tr>\n",
              "      <th>96</th>\n",
              "      <td>0.205104</td>\n",
              "      <td>0.978740</td>\n",
              "    </tr>\n",
              "    <tr>\n",
              "      <th>97</th>\n",
              "      <td>0.674444</td>\n",
              "      <td>0.738326</td>\n",
              "    </tr>\n",
              "  </tbody>\n",
              "</table>\n",
              "</div>"
            ],
            "text/plain": [
              "    yearly_delim_1  yearly_delim_2\n",
              "88        0.763889       -0.645348\n",
              "89        0.329408       -0.944188\n",
              "90       -0.179767       -0.983709\n",
              "91       -0.655156       -0.755493\n",
              "92       -0.948362       -0.317191\n",
              "93       -0.981306        0.192452\n",
              "94       -0.746972        0.664855\n",
              "95       -0.321270        0.946988\n",
              "96        0.205104        0.978740\n",
              "97        0.674444        0.738326"
            ]
          },
          "metadata": {},
          "execution_count": 48
        }
      ]
    },
    {
      "cell_type": "code",
      "metadata": {
        "colab": {
          "base_uri": "https://localhost:8080/",
          "height": 144
        },
        "id": "z2pXrTmXmOx2",
        "outputId": "f6467939-769c-4281-8c99-a287f7f3a635"
      },
      "source": [
        "component_cols"
      ],
      "execution_count": 49,
      "outputs": [
        {
          "output_type": "execute_result",
          "data": {
            "text/html": [
              "<div>\n",
              "<style scoped>\n",
              "    .dataframe tbody tr th:only-of-type {\n",
              "        vertical-align: middle;\n",
              "    }\n",
              "\n",
              "    .dataframe tbody tr th {\n",
              "        vertical-align: top;\n",
              "    }\n",
              "\n",
              "    .dataframe thead th {\n",
              "        text-align: right;\n",
              "    }\n",
              "</style>\n",
              "<table border=\"1\" class=\"dataframe\">\n",
              "  <thead>\n",
              "    <tr style=\"text-align: right;\">\n",
              "      <th>component</th>\n",
              "      <th>multiplicative_terms</th>\n",
              "      <th>yearly</th>\n",
              "      <th>additive_terms</th>\n",
              "    </tr>\n",
              "    <tr>\n",
              "      <th>col</th>\n",
              "      <th></th>\n",
              "      <th></th>\n",
              "      <th></th>\n",
              "    </tr>\n",
              "  </thead>\n",
              "  <tbody>\n",
              "    <tr>\n",
              "      <th>0</th>\n",
              "      <td>1</td>\n",
              "      <td>1</td>\n",
              "      <td>0</td>\n",
              "    </tr>\n",
              "    <tr>\n",
              "      <th>1</th>\n",
              "      <td>1</td>\n",
              "      <td>1</td>\n",
              "      <td>0</td>\n",
              "    </tr>\n",
              "  </tbody>\n",
              "</table>\n",
              "</div>"
            ],
            "text/plain": [
              "component  multiplicative_terms  yearly  additive_terms\n",
              "col                                                    \n",
              "0                             1       1               0\n",
              "1                             1       1               0"
            ]
          },
          "metadata": {},
          "execution_count": 49
        }
      ]
    },
    {
      "cell_type": "code",
      "metadata": {
        "colab": {
          "base_uri": "https://localhost:8080/",
          "height": 362
        },
        "id": "V3gLGt7fmOx2",
        "outputId": "2a140927-b7d3-4b30-bd93-893c31d736c5"
      },
      "source": [
        "forecast[['ds', 'yhat', 'yhat_lower', 'yhat_upper', 'trend', 'trend_lower', 'trend_upper', \"multiplicative_terms\",\"multiplicative_terms_lower\",\"multiplicative_terms_upper\"]].tail(10)"
      ],
      "execution_count": 50,
      "outputs": [
        {
          "output_type": "execute_result",
          "data": {
            "text/html": [
              "<div>\n",
              "<style scoped>\n",
              "    .dataframe tbody tr th:only-of-type {\n",
              "        vertical-align: middle;\n",
              "    }\n",
              "\n",
              "    .dataframe tbody tr th {\n",
              "        vertical-align: top;\n",
              "    }\n",
              "\n",
              "    .dataframe thead th {\n",
              "        text-align: right;\n",
              "    }\n",
              "</style>\n",
              "<table border=\"1\" class=\"dataframe\">\n",
              "  <thead>\n",
              "    <tr style=\"text-align: right;\">\n",
              "      <th></th>\n",
              "      <th>ds</th>\n",
              "      <th>yhat</th>\n",
              "      <th>yhat_lower</th>\n",
              "      <th>yhat_upper</th>\n",
              "      <th>trend</th>\n",
              "      <th>trend_lower</th>\n",
              "      <th>trend_upper</th>\n",
              "      <th>multiplicative_terms</th>\n",
              "      <th>multiplicative_terms_lower</th>\n",
              "      <th>multiplicative_terms_upper</th>\n",
              "    </tr>\n",
              "  </thead>\n",
              "  <tbody>\n",
              "    <tr>\n",
              "      <th>698</th>\n",
              "      <td>2016-05-01</td>\n",
              "      <td>403.634663</td>\n",
              "      <td>400.664797</td>\n",
              "      <td>406.584016</td>\n",
              "      <td>400.812514</td>\n",
              "      <td>398.050867</td>\n",
              "      <td>403.551714</td>\n",
              "      <td>0.007041</td>\n",
              "      <td>0.007041</td>\n",
              "      <td>0.007041</td>\n",
              "    </tr>\n",
              "    <tr>\n",
              "      <th>699</th>\n",
              "      <td>2016-06-01</td>\n",
              "      <td>402.577057</td>\n",
              "      <td>399.635426</td>\n",
              "      <td>405.525574</td>\n",
              "      <td>400.978668</td>\n",
              "      <td>398.138058</td>\n",
              "      <td>403.756742</td>\n",
              "      <td>0.003986</td>\n",
              "      <td>0.003986</td>\n",
              "      <td>0.003986</td>\n",
              "    </tr>\n",
              "    <tr>\n",
              "      <th>700</th>\n",
              "      <td>2016-07-01</td>\n",
              "      <td>401.124607</td>\n",
              "      <td>398.116319</td>\n",
              "      <td>404.029676</td>\n",
              "      <td>401.139462</td>\n",
              "      <td>398.234787</td>\n",
              "      <td>403.957265</td>\n",
              "      <td>-0.000037</td>\n",
              "      <td>-0.000037</td>\n",
              "      <td>-0.000037</td>\n",
              "    </tr>\n",
              "    <tr>\n",
              "      <th>701</th>\n",
              "      <td>2016-08-01</td>\n",
              "      <td>399.631560</td>\n",
              "      <td>396.706895</td>\n",
              "      <td>402.597970</td>\n",
              "      <td>401.305616</td>\n",
              "      <td>398.384094</td>\n",
              "      <td>404.198626</td>\n",
              "      <td>-0.004172</td>\n",
              "      <td>-0.004172</td>\n",
              "      <td>-0.004172</td>\n",
              "    </tr>\n",
              "    <tr>\n",
              "      <th>702</th>\n",
              "      <td>2016-09-01</td>\n",
              "      <td>398.602849</td>\n",
              "      <td>395.569363</td>\n",
              "      <td>401.682648</td>\n",
              "      <td>401.471770</td>\n",
              "      <td>398.481930</td>\n",
              "      <td>404.410843</td>\n",
              "      <td>-0.007146</td>\n",
              "      <td>-0.007146</td>\n",
              "      <td>-0.007146</td>\n",
              "    </tr>\n",
              "    <tr>\n",
              "      <th>703</th>\n",
              "      <td>2016-10-01</td>\n",
              "      <td>398.364481</td>\n",
              "      <td>395.074333</td>\n",
              "      <td>401.359255</td>\n",
              "      <td>401.632564</td>\n",
              "      <td>398.592396</td>\n",
              "      <td>404.617450</td>\n",
              "      <td>-0.008137</td>\n",
              "      <td>-0.008137</td>\n",
              "      <td>-0.008137</td>\n",
              "    </tr>\n",
              "    <tr>\n",
              "      <th>704</th>\n",
              "      <td>2016-11-01</td>\n",
              "      <td>399.012904</td>\n",
              "      <td>395.817971</td>\n",
              "      <td>402.177284</td>\n",
              "      <td>401.798718</td>\n",
              "      <td>398.729766</td>\n",
              "      <td>404.833968</td>\n",
              "      <td>-0.006933</td>\n",
              "      <td>-0.006933</td>\n",
              "      <td>-0.006933</td>\n",
              "    </tr>\n",
              "    <tr>\n",
              "      <th>705</th>\n",
              "      <td>2016-12-01</td>\n",
              "      <td>400.381820</td>\n",
              "      <td>397.241616</td>\n",
              "      <td>403.632002</td>\n",
              "      <td>401.959513</td>\n",
              "      <td>398.887540</td>\n",
              "      <td>405.036129</td>\n",
              "      <td>-0.003925</td>\n",
              "      <td>-0.003925</td>\n",
              "      <td>-0.003925</td>\n",
              "    </tr>\n",
              "    <tr>\n",
              "      <th>706</th>\n",
              "      <td>2017-01-01</td>\n",
              "      <td>402.225045</td>\n",
              "      <td>398.868199</td>\n",
              "      <td>405.541710</td>\n",
              "      <td>402.125667</td>\n",
              "      <td>399.005167</td>\n",
              "      <td>405.238132</td>\n",
              "      <td>0.000247</td>\n",
              "      <td>0.000247</td>\n",
              "      <td>0.000247</td>\n",
              "    </tr>\n",
              "    <tr>\n",
              "      <th>707</th>\n",
              "      <td>2017-02-01</td>\n",
              "      <td>404.042011</td>\n",
              "      <td>400.709951</td>\n",
              "      <td>407.414508</td>\n",
              "      <td>402.291821</td>\n",
              "      <td>399.109746</td>\n",
              "      <td>405.451576</td>\n",
              "      <td>0.004351</td>\n",
              "      <td>0.004351</td>\n",
              "      <td>0.004351</td>\n",
              "    </tr>\n",
              "  </tbody>\n",
              "</table>\n",
              "</div>"
            ],
            "text/plain": [
              "            ds  ...  multiplicative_terms_upper\n",
              "698 2016-05-01  ...                    0.007041\n",
              "699 2016-06-01  ...                    0.003986\n",
              "700 2016-07-01  ...                   -0.000037\n",
              "701 2016-08-01  ...                   -0.004172\n",
              "702 2016-09-01  ...                   -0.007146\n",
              "703 2016-10-01  ...                   -0.008137\n",
              "704 2016-11-01  ...                   -0.006933\n",
              "705 2016-12-01  ...                   -0.003925\n",
              "706 2017-01-01  ...                    0.000247\n",
              "707 2017-02-01  ...                    0.004351\n",
              "\n",
              "[10 rows x 10 columns]"
            ]
          },
          "metadata": {},
          "execution_count": 50
        }
      ]
    },
    {
      "cell_type": "code",
      "metadata": {
        "colab": {
          "base_uri": "https://localhost:8080/"
        },
        "id": "_WXvZsWTmOx3",
        "outputId": "13bb7e61-2111-4c25-d73a-54aa207634bb"
      },
      "source": [
        "model.params['beta'] "
      ],
      "execution_count": 51,
      "outputs": [
        {
          "output_type": "execute_result",
          "data": {
            "text/plain": [
              "array([[ 0.00801223, -0.00142654]])"
            ]
          },
          "metadata": {},
          "execution_count": 51
        }
      ]
    }
  ]
}